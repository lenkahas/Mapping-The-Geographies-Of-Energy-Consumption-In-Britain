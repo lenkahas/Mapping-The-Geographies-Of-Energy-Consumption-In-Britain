{
 "cells": [
  {
   "cell_type": "code",
   "execution_count": 2,
   "metadata": {},
   "outputs": [
    {
     "name": "stdout",
     "output_type": "stream",
     "text": [
      "Intel MKL WARNING: Support of Intel(R) Streaming SIMD Extensions 4.2 (Intel(R) SSE4.2) enabled only processors has been deprecated. Intel oneAPI Math Kernel Library 2025.0 will require Intel(R) Advanced Vector Extensions (Intel(R) AVX) instructions.\n",
      "Intel MKL WARNING: Support of Intel(R) Streaming SIMD Extensions 4.2 (Intel(R) SSE4.2) enabled only processors has been deprecated. Intel oneAPI Math Kernel Library 2025.0 will require Intel(R) Advanced Vector Extensions (Intel(R) AVX) instructions.\n"
     ]
    }
   ],
   "source": [
    "import pandas as pd\n",
    "import numpy as np\n",
    "import geopandas as gpd\n",
    "import glob\n",
    "import matplotlib.pyplot as plt\n",
    "import seaborn as sns"
   ]
  },
  {
   "cell_type": "code",
   "execution_count": 3,
   "metadata": {},
   "outputs": [],
   "source": [
    "def load_compile_epc(path_to_cleaned):\n",
    "\n",
    "    list_paths = glob.glob(path_to_cleaned) #path_to_cleaned = \"./../Data/Energy_Performance_Certificate/cerificates_processed/*.csv\"\n",
    "\n",
    "    data = pd.DataFrame()\n",
    "    for i in range(len(glob.glob(path_to_cleaned))):\n",
    "        x = pd.read_csv(list_paths[i])\n",
    "        data = pd.concat([data,x])\n",
    "\n",
    "    #data = gpd.GeoDataFrame(data, geometry = gpd.points_from_xy(data.LONGITUDE,data.LATITUDE), crs = \"EPSG:4326\")\n",
    "\n",
    "    return(data)\n",
    "\n",
    "def winsor(variable):\n",
    "    upper_percentile = np.percentile(variable, 99)\n",
    "    lower_percentile = np.percentile(variable, 1)\n",
    "    new_var = np.where(variable > upper_percentile, upper_percentile, variable)\n",
    "    new_var = np.where(new_var < lower_percentile, lower_percentile, new_var)\n",
    "    return(new_var)\n",
    "\n",
    "def essen_clean(data):\n",
    "    # eliminate rows before 01/05/2013\n",
    "    data['LODGEMENT_DATE'] = pd.to_datetime(data['LODGEMENT_DATE'],format = '%Y-%m-%d')\n",
    "    data = data[data['LODGEMENT_DATE'] >= '2013-05-01 00:00:00']\n",
    "    # eliminate not geolocated rows\n",
    "    data = data[~data['LSOA21CD'].isna()]\n",
    "\n",
    "    return(data)\n",
    "\n"
   ]
  },
  {
   "cell_type": "code",
   "execution_count": 4,
   "metadata": {},
   "outputs": [],
   "source": [
    "lookup = pd.read_csv('./../../Volumes/Extreme_SSD/WORK/MAV/UPRN/uprn_lsoa_lookup.csv').drop(['Unnamed: 0'],axis = 1)"
   ]
  },
  {
   "cell_type": "markdown",
   "metadata": {},
   "source": [
    "# ENERGY"
   ]
  },
  {
   "cell_type": "code",
   "execution_count": null,
   "metadata": {},
   "outputs": [],
   "source": [
    "ener = load_compile_epc('./../../Volumes/Extreme_SSD/WORK/EPC/english_EPC/cleaned_energy/*')\n",
    "ener.head()"
   ]
  },
  {
   "cell_type": "code",
   "execution_count": null,
   "metadata": {},
   "outputs": [],
   "source": [
    "ener = ener.merge(lookup, how = 'left', on = 'UPRN')\n",
    "ener.info()"
   ]
  },
  {
   "cell_type": "code",
   "execution_count": null,
   "metadata": {},
   "outputs": [],
   "source": [
    "ener = essen_clean(ener)"
   ]
  },
  {
   "cell_type": "code",
   "execution_count": null,
   "metadata": {},
   "outputs": [],
   "source": [
    "# adjust the energy related variables\n",
    "ener = ener.loc[:,['CURRENT_ENERGY_RATING', 'CURRENT_ENERGY_EFFICIENCY','ENERGY_CONSUMPTION_CURRENT', 'ENERGY_CONSUMPTION_POTENTIAL', 'MAINS_GAS_FLAG','LSOA21CD']]\n",
    "ener['count'] = 1\n",
    "dict_ener = {'A':1,'B':2,'C':3,'D':4,'E':5,'F':6,'G':7,'INVALID!': np.nan}\n",
    "ener['CURRENT_ENERGY_RATING_numbered'] = ener['CURRENT_ENERGY_RATING'].map(dict_ener)"
   ]
  },
  {
   "cell_type": "code",
   "execution_count": null,
   "metadata": {},
   "outputs": [],
   "source": [
    "ener.head()"
   ]
  },
  {
   "cell_type": "code",
   "execution_count": null,
   "metadata": {},
   "outputs": [],
   "source": [
    "ener_g = ener[ener['MAINS_GAS_FLAG'] == 'Y']"
   ]
  },
  {
   "cell_type": "code",
   "execution_count": null,
   "metadata": {},
   "outputs": [],
   "source": [
    "ener['ENERGY_CONSUMPTION_CURRENT'] = winsor(ener['ENERGY_CONSUMPTION_CURRENT'])\n",
    "ener_g['ENERGY_CONSUMPTION_CURRENT'] = winsor(ener_g['ENERGY_CONSUMPTION_CURRENT'])"
   ]
  },
  {
   "cell_type": "code",
   "execution_count": null,
   "metadata": {},
   "outputs": [],
   "source": [
    "# aggregate full data\n",
    "agg = round(ener.groupby(['LSOA21CD']\n",
    "                  ).aggregate({'CURRENT_ENERGY_EFFICIENCY':['median','mean'],\n",
    "                              'CURRENT_ENERGY_RATING_numbered':['median','mean'],\n",
    "                              'ENERGY_CONSUMPTION_CURRENT':['median','mean'],\n",
    "                              'ENERGY_CONSUMPTION_POTENTIAL':['median','mean'],\n",
    "                              'count':['count']}).reset_index(),2)\n",
    "agg.columns = [c[0] + \"_\" + c[1] for c in agg.columns]\n",
    "agg = agg.rename(columns = {'LSOA21CD_':'LSOA21CD'})\n",
    "# aggregate the gas only data\n",
    "agg_g = round(ener_g.groupby(['LSOA21CD']\n",
    "                  ).aggregate({'CURRENT_ENERGY_EFFICIENCY':['median','mean'],\n",
    "                              'CURRENT_ENERGY_RATING_numbered':['median','mean'],\n",
    "                              'ENERGY_CONSUMPTION_CURRENT':['median','mean'],\n",
    "                              'ENERGY_CONSUMPTION_POTENTIAL':['median','mean'],\n",
    "                              'count':['count']}).reset_index(),2)\n",
    "agg_g.columns = [c[0] + \"_\" + c[1] for c in agg_g.columns]\n",
    "agg_g = agg_g.rename(columns = {'LSOA21CD_':'LSOA21CD'})"
   ]
  },
  {
   "cell_type": "code",
   "execution_count": null,
   "metadata": {},
   "outputs": [],
   "source": [
    "agg.to_csv('./../../Volumes/Extreme_SSD/WORK/EPC/english_EPC/LSOA_energy.csv')\n",
    "agg_g.to_csv('./../../Volumes/Extreme_SSD/WORK/EPC/english_EPC/LSOA_GAS_energy.csv')"
   ]
  },
  {
   "cell_type": "markdown",
   "metadata": {},
   "source": [
    "# HEAT"
   ]
  },
  {
   "cell_type": "code",
   "execution_count": null,
   "metadata": {},
   "outputs": [],
   "source": [
    "heat = load_compile_epc('./../../Volumes/Extreme_SSD/WORK/EPC/english_EPC/cleaned_heat/*')\n",
    "heat.head()"
   ]
  },
  {
   "cell_type": "code",
   "execution_count": null,
   "metadata": {},
   "outputs": [],
   "source": [
    "heat = heat.merge(lookup, how = 'left', on = 'UPRN')\n",
    "heat.info()"
   ]
  },
  {
   "cell_type": "code",
   "execution_count": null,
   "metadata": {},
   "outputs": [],
   "source": [
    "heat = essen_clean(heat)"
   ]
  },
  {
   "cell_type": "code",
   "execution_count": null,
   "metadata": {},
   "outputs": [],
   "source": [
    "heat['count'] = 1"
   ]
  },
  {
   "cell_type": "markdown",
   "metadata": {},
   "source": [
    "def return_binary_heat(source_var, str_name):\n",
    "    var = source_var.str.find(str_name)\n",
    "    var = np.where(var > 0, 1,0)\n",
    "    return var\n",
    "\n",
    "#heat['electric'] = return_binary_heat(source_var = heat['MAINHEAT_DESCRIPTION'], \n",
    "                                          str_name =  'electric')\n"
   ]
  },
  {
   "cell_type": "markdown",
   "metadata": {},
   "source": [
    "## mainheating"
   ]
  },
  {
   "cell_type": "code",
   "execution_count": null,
   "metadata": {},
   "outputs": [],
   "source": [
    "keywords = ['electric', 'trydan']\n",
    "# Create a regex pattern for the keywords\n",
    "pattern = '|'.join(keywords)\n",
    "# Use str.contains to create the binary column\n",
    "heat['MAIN_electric'] = heat['MAINHEAT_DESCRIPTION'].str.contains(pattern, case=False, na=True).astype(int)\n",
    "keywords = ['wood', 'coal', 'LPG', \n",
    "' oil', 'anthracite', 'smokeless',\n",
    "'bio', 'B30K', 'solid fuel', 'coal', 'wood',\n",
    " 'olew', 'choed', 'LNG']\n",
    "# Create a regex pattern for the keywords\n",
    "pattern = '|'.join(keywords)\n",
    "# Use str.contains to create the binary column\n",
    "heat['MAIN_solid_fuel'] = heat['MAINHEAT_DESCRIPTION'].str.contains(pattern, case=False, na=True).astype(int)"
   ]
  },
  {
   "cell_type": "code",
   "execution_count": null,
   "metadata": {},
   "outputs": [],
   "source": [
    "heat['MAIN_other'] = np.where(((heat['MAIN_electric'] == 0) | (heat['MAIN_solid_fuel'] == 0)), 1,0)\n",
    "heat['MAIN_electric_other'] = np.where((heat['MAIN_electric'] & heat['MAIN_other']), 1, 0)\n",
    "heat['MAIN_electric_solid'] = np.where((heat['MAIN_electric'] & heat['MAIN_solid_fuel']), 1, 0)\n",
    "heat['MAIN_solid_other'] = np.where((heat['MAIN_solid_fuel'] & heat['MAIN_other']), 1, 0)"
   ]
  },
  {
   "cell_type": "code",
   "execution_count": null,
   "metadata": {},
   "outputs": [],
   "source": [
    "for i in [ 'MAIN_electric','MAIN_solid_fuel',\n",
    "       'MAIN_other', 'MAIN_electric_other', 'MAIN_electric_solid',\n",
    "       'MAIN_solid_other']: \n",
    "       heat[i] = np.where(heat['MAINHEAT_DESCRIPTION'].isna(), np.nan, heat[i] )"
   ]
  },
  {
   "cell_type": "markdown",
   "metadata": {},
   "source": [
    "## secondheating"
   ]
  },
  {
   "cell_type": "code",
   "execution_count": null,
   "metadata": {},
   "outputs": [],
   "source": [
    "keywords = ['electric', 'trydan']\n",
    "# Create a regex pattern for the keywords\n",
    "pattern = '|'.join(keywords)\n",
    "# Use str.contains to create the binary column\n",
    "heat['SECOND_electric'] = heat['SECONDHEAT_DESCRIPTION'].str.contains(pattern, case=False, na=True).astype(int)\n",
    "keywords = ['wood', 'coal', 'LPG', \n",
    "' oil', 'anthracite', 'smokeless',\n",
    "'bio', 'B30K', 'solid fuel', 'coal', 'wood',\n",
    " 'olew', 'choed', 'LNG']\n",
    "# Create a regex pattern for the keywords\n",
    "pattern = '|'.join(keywords)\n",
    "# Use str.contains to create the binary column\n",
    "heat['SECOND_solid_fuel'] = heat['SECONDHEAT_DESCRIPTION'].str.contains(pattern, case=False, na=True).astype(int)"
   ]
  },
  {
   "cell_type": "code",
   "execution_count": null,
   "metadata": {},
   "outputs": [],
   "source": [
    "heat['SECOND_other'] = np.where(((heat['SECOND_electric'] == 0) | (heat['SECOND_solid_fuel'] == 0)), 1,0)\n",
    "heat['SECOND_electric_other'] = np.where((heat['SECOND_electric'] & heat['SECOND_other']), 1, 0)\n",
    "heat['SECOND_electric_solid'] = np.where((heat['SECOND_electric'] & heat['SECOND_solid_fuel']), 1, 0)\n",
    "heat['SECOND_solid_other'] = np.where((heat['SECOND_solid_fuel'] & heat['SECOND_other']), 1, 0)"
   ]
  },
  {
   "cell_type": "code",
   "execution_count": null,
   "metadata": {},
   "outputs": [],
   "source": [
    "for i in [ 'SECOND_electric','SECOND_solid_fuel',\n",
    "       'SECOND_other', 'SECOND_electric_other', 'SECOND_electric_solid',\n",
    "       'SECOND_solid_other']: \n",
    "       heat[i] = np.where(heat['SECONDHEAT_DESCRIPTION'].isna(), np.nan, heat[i] )"
   ]
  },
  {
   "cell_type": "markdown",
   "metadata": {},
   "source": [
    "## other the heat variables"
   ]
  },
  {
   "cell_type": "code",
   "execution_count": null,
   "metadata": {},
   "outputs": [],
   "source": [
    "heat['NUMBER_OPEN_FIREPLACES_binary'] = np.where(heat['NUMBER_OPEN_FIREPLACES'] >=1, 1, 0)"
   ]
  },
  {
   "cell_type": "code",
   "execution_count": null,
   "metadata": {},
   "outputs": [],
   "source": [
    "heat_g = heat[heat['MAINS_GAS_FLAG'] == 'Y']"
   ]
  },
  {
   "cell_type": "markdown",
   "metadata": {},
   "source": [
    "## aggregate"
   ]
  },
  {
   "cell_type": "code",
   "execution_count": null,
   "metadata": {},
   "outputs": [],
   "source": [
    "agg = round(heat.groupby(['LSOA21CD']\n",
    "                  ).aggregate({'NUMBER_OPEN_FIREPLACES':['sum','median','mean'],\n",
    "                              'NUMBER_OPEN_FIREPLACES_binary':['sum'],\n",
    "                              'MAIN_electric':['sum'],\n",
    "                                'MAIN_solid_fuel':['sum'],\n",
    "                                'MAIN_other':['sum'], \n",
    "                                'MAIN_electric_other':['sum'], \n",
    "                                'MAIN_electric_solid':['sum'],\n",
    "                                'MAIN_solid_other':['sum'], \n",
    "                                'SECOND_electric':['sum'], \n",
    "                                'SECOND_solid_fuel':['sum'],\n",
    "                                'SECOND_other':['sum'], \n",
    "                                'SECOND_electric_other':['sum'], \n",
    "                                'SECOND_electric_solid':['sum'],\n",
    "                                'SECOND_solid_other':['sum'],\n",
    "                              'count':['count']}).reset_index(),2)\n",
    "agg.columns = [c[0] + \"_\" + c[1] for c in agg.columns]\n",
    "agg = agg.rename(columns = {'LSOA21CD_':'LSOA21CD'})\n",
    "\n",
    "agg_g = round(heat_g.groupby(['LSOA21CD']\n",
    "                  ).aggregate({'NUMBER_OPEN_FIREPLACES':['sum','median','mean'],\n",
    "                              'NUMBER_OPEN_FIREPLACES_binary':['sum'],\n",
    "                              'MAIN_electric':['sum'],\n",
    "                                'MAIN_solid_fuel':['sum'],\n",
    "                                'MAIN_other':['sum'], \n",
    "                                'MAIN_electric_other':['sum'], \n",
    "                                'MAIN_electric_solid':['sum'],\n",
    "                                'MAIN_solid_other':['sum'], \n",
    "                                'SECOND_electric':['sum'], \n",
    "                                'SECOND_solid_fuel':['sum'],\n",
    "                                'SECOND_other':['sum'], \n",
    "                                'SECOND_electric_other':['sum'], \n",
    "                                'SECOND_electric_solid':['sum'],\n",
    "                                'SECOND_solid_other':['sum'],\n",
    "                              'count':['count']}).reset_index(),2)\n",
    "agg_g.columns = [c[0] + \"_\" + c[1] for c in agg_g.columns]\n",
    "agg_g = agg_g.rename(columns = {'LSOA21CD_':'LSOA21CD'})"
   ]
  },
  {
   "cell_type": "code",
   "execution_count": null,
   "metadata": {},
   "outputs": [],
   "source": [
    "agg.to_csv('./../../Volumes/Extreme_SSD/WORK/EPC/english_EPC/LSOA_heat.csv')\n",
    "agg_g.to_csv('./../../Volumes/Extreme_SSD/WORK/EPC/english_EPC/LSOA_GAS_heat.csv')"
   ]
  },
  {
   "cell_type": "code",
   "execution_count": null,
   "metadata": {},
   "outputs": [],
   "source": [
    "del heat, heat_g, agg, agg_g"
   ]
  },
  {
   "cell_type": "markdown",
   "metadata": {},
   "source": [
    "# HOUSE"
   ]
  },
  {
   "cell_type": "code",
   "execution_count": 5,
   "metadata": {},
   "outputs": [
    {
     "data": {
      "text/html": [
       "<div>\n",
       "<style scoped>\n",
       "    .dataframe tbody tr th:only-of-type {\n",
       "        vertical-align: middle;\n",
       "    }\n",
       "\n",
       "    .dataframe tbody tr th {\n",
       "        vertical-align: top;\n",
       "    }\n",
       "\n",
       "    .dataframe thead th {\n",
       "        text-align: right;\n",
       "    }\n",
       "</style>\n",
       "<table border=\"1\" class=\"dataframe\">\n",
       "  <thead>\n",
       "    <tr style=\"text-align: right;\">\n",
       "      <th></th>\n",
       "      <th>PROPERTY_TYPE</th>\n",
       "      <th>BUILT_FORM</th>\n",
       "      <th>LODGEMENT_DATE</th>\n",
       "      <th>TOTAL_FLOOR_AREA</th>\n",
       "      <th>MAINS_GAS_FLAG</th>\n",
       "      <th>CONSTRUCTION_AGE_BAND</th>\n",
       "      <th>TENURE</th>\n",
       "      <th>UPRN</th>\n",
       "      <th>LATITUDE</th>\n",
       "      <th>LONGITUDE</th>\n",
       "    </tr>\n",
       "  </thead>\n",
       "  <tbody>\n",
       "    <tr>\n",
       "      <th>0</th>\n",
       "      <td>House</td>\n",
       "      <td>Detached</td>\n",
       "      <td>2023-05-05</td>\n",
       "      <td>193.0</td>\n",
       "      <td>N</td>\n",
       "      <td>England and Wales: before 1900</td>\n",
       "      <td>Owner-occupied</td>\n",
       "      <td>1.009311e+09</td>\n",
       "      <td>50.497252</td>\n",
       "      <td>-3.752589</td>\n",
       "    </tr>\n",
       "    <tr>\n",
       "      <th>1</th>\n",
       "      <td>House</td>\n",
       "      <td>End-Terrace</td>\n",
       "      <td>2023-04-24</td>\n",
       "      <td>264.0</td>\n",
       "      <td>N</td>\n",
       "      <td>England and Wales: 1900-1929</td>\n",
       "      <td>Owner-occupied</td>\n",
       "      <td>1.009311e+09</td>\n",
       "      <td>50.374284</td>\n",
       "      <td>-3.989030</td>\n",
       "    </tr>\n",
       "    <tr>\n",
       "      <th>2</th>\n",
       "      <td>House</td>\n",
       "      <td>Detached</td>\n",
       "      <td>2011-11-26</td>\n",
       "      <td>201.5</td>\n",
       "      <td>N</td>\n",
       "      <td>England and Wales: 1996-2002</td>\n",
       "      <td>rental (private)</td>\n",
       "      <td>1.009311e+09</td>\n",
       "      <td>50.386777</td>\n",
       "      <td>-3.666289</td>\n",
       "    </tr>\n",
       "    <tr>\n",
       "      <th>3</th>\n",
       "      <td>House</td>\n",
       "      <td>Detached</td>\n",
       "      <td>2020-05-29</td>\n",
       "      <td>450.0</td>\n",
       "      <td>N</td>\n",
       "      <td>England and Wales: before 1900</td>\n",
       "      <td>owner-occupied</td>\n",
       "      <td>1.009311e+09</td>\n",
       "      <td>50.404028</td>\n",
       "      <td>-4.019857</td>\n",
       "    </tr>\n",
       "    <tr>\n",
       "      <th>4</th>\n",
       "      <td>House</td>\n",
       "      <td>Mid-Terrace</td>\n",
       "      <td>2019-06-18</td>\n",
       "      <td>78.0</td>\n",
       "      <td>N</td>\n",
       "      <td>England and Wales: 2007 onwards</td>\n",
       "      <td>owner-occupied</td>\n",
       "      <td>1.009311e+09</td>\n",
       "      <td>50.361612</td>\n",
       "      <td>-3.666855</td>\n",
       "    </tr>\n",
       "  </tbody>\n",
       "</table>\n",
       "</div>"
      ],
      "text/plain": [
       "  PROPERTY_TYPE   BUILT_FORM LODGEMENT_DATE  TOTAL_FLOOR_AREA MAINS_GAS_FLAG  \\\n",
       "0         House     Detached     2023-05-05             193.0              N   \n",
       "1         House  End-Terrace     2023-04-24             264.0              N   \n",
       "2         House     Detached     2011-11-26             201.5              N   \n",
       "3         House     Detached     2020-05-29             450.0              N   \n",
       "4         House  Mid-Terrace     2019-06-18              78.0              N   \n",
       "\n",
       "             CONSTRUCTION_AGE_BAND            TENURE          UPRN   LATITUDE  \\\n",
       "0   England and Wales: before 1900    Owner-occupied  1.009311e+09  50.497252   \n",
       "1     England and Wales: 1900-1929    Owner-occupied  1.009311e+09  50.374284   \n",
       "2     England and Wales: 1996-2002  rental (private)  1.009311e+09  50.386777   \n",
       "3   England and Wales: before 1900    owner-occupied  1.009311e+09  50.404028   \n",
       "4  England and Wales: 2007 onwards    owner-occupied  1.009311e+09  50.361612   \n",
       "\n",
       "   LONGITUDE  \n",
       "0  -3.752589  \n",
       "1  -3.989030  \n",
       "2  -3.666289  \n",
       "3  -4.019857  \n",
       "4  -3.666855  "
      ]
     },
     "execution_count": 5,
     "metadata": {},
     "output_type": "execute_result"
    }
   ],
   "source": [
    "house = load_compile_epc('./../../Volumes/Extreme_SSD/WORK/EPC/english_EPC/cleaned_house/*')\n",
    "house.head()"
   ]
  },
  {
   "cell_type": "code",
   "execution_count": null,
   "metadata": {},
   "outputs": [],
   "source": [
    "#house['CONSTRUCTION_AGE_BAND'].value_counts().to_csv('./../../Volumes/Extreme_SSD/WORK/EPC/english_EPC/E_CONSTRUCTION_AGE_BAND.csv')"
   ]
  },
  {
   "cell_type": "code",
   "execution_count": 6,
   "metadata": {},
   "outputs": [
    {
     "name": "stdout",
     "output_type": "stream",
     "text": [
      "<class 'pandas.core.frame.DataFrame'>\n",
      "RangeIndex: 18515781 entries, 0 to 18515780\n",
      "Data columns (total 11 columns):\n",
      " #   Column                 Dtype  \n",
      "---  ------                 -----  \n",
      " 0   PROPERTY_TYPE          object \n",
      " 1   BUILT_FORM             object \n",
      " 2   LODGEMENT_DATE         object \n",
      " 3   TOTAL_FLOOR_AREA       float64\n",
      " 4   MAINS_GAS_FLAG         object \n",
      " 5   CONSTRUCTION_AGE_BAND  object \n",
      " 6   TENURE                 object \n",
      " 7   UPRN                   float64\n",
      " 8   LATITUDE               float64\n",
      " 9   LONGITUDE              float64\n",
      " 10  LSOA21CD               object \n",
      "dtypes: float64(4), object(7)\n",
      "memory usage: 1.5+ GB\n"
     ]
    }
   ],
   "source": [
    "house = house.merge(lookup, how = 'left', on = 'UPRN')\n",
    "house.info()"
   ]
  },
  {
   "cell_type": "code",
   "execution_count": 7,
   "metadata": {},
   "outputs": [],
   "source": [
    "house = essen_clean(house)"
   ]
  },
  {
   "cell_type": "code",
   "execution_count": 8,
   "metadata": {},
   "outputs": [],
   "source": [
    "age_lookup = pd.read_csv('./../../Volumes/Extreme_SSD/WORK/EPC/age_lookup.csv')\n",
    "age_dict = age_lookup.set_index('CONSTRUCTION_AGE_BAND')['Category2'].to_dict()"
   ]
  },
  {
   "cell_type": "code",
   "execution_count": 9,
   "metadata": {},
   "outputs": [
    {
     "data": {
      "text/plain": [
       "array(['before_1929', '2003_onwards', '1930-1949', nan, '1976-2002',\n",
       "       '1950-1975'], dtype=object)"
      ]
     },
     "execution_count": 9,
     "metadata": {},
     "output_type": "execute_result"
    }
   ],
   "source": [
    "house['CONSTRUCTION_AGE_BAND'].map(age_dict).unique()"
   ]
  },
  {
   "cell_type": "code",
   "execution_count": 10,
   "metadata": {},
   "outputs": [],
   "source": [
    "house['CONSTRUCTION_AGE_BAND'] = house['CONSTRUCTION_AGE_BAND'].map(age_dict)\n",
    "house['count'] = 1\n",
    "house = house.reset_index()"
   ]
  },
  {
   "cell_type": "code",
   "execution_count": 11,
   "metadata": {},
   "outputs": [],
   "source": [
    "house['BUILT_FORM'] = np.where(house['BUILT_FORM'] == 'NO DATA!', np.nan,house['BUILT_FORM'] )\n",
    "house['BUILT_FORM'] = np.where(house['BUILT_FORM'] =='Enclosed Mid-Terrace', np.nan,house['BUILT_FORM'] )\n",
    "house['BUILT_FORM'] = np.where(house['BUILT_FORM'] == 'Enclosed End-Terrace', np.nan,house['BUILT_FORM'] )"
   ]
  },
  {
   "cell_type": "code",
   "execution_count": 12,
   "metadata": {},
   "outputs": [],
   "source": [
    "dict_ten = {'Owner-occupied':'Owner-occupied', \n",
    "'rental (private)':'Rented (private)', \n",
    "'owner-occupied':'Owner-occupied',\n",
    "'Rented (private)':'Rented (private)', \n",
    "'unknown': np.nan, \n",
    "'Rented (social)':'Rented (social)',\n",
    "'rental (social)':'Rented (social)',\n",
    "'Not defined - use in the case of a new dwelling for which the intended tenure in not known. It is not to be used for an existing dwelling':np.nan,\n",
    "'NO DATA!': np.nan}\n",
    "\n",
    "house['TENURE'] = house['TENURE'].map(dict_ten)"
   ]
  },
  {
   "cell_type": "code",
   "execution_count": 13,
   "metadata": {},
   "outputs": [],
   "source": [
    "gas = {'N':0,'Y':1}\n",
    "house['MAINS_GAS_FLAG'] = house['MAINS_GAS_FLAG'].map(gas)"
   ]
  },
  {
   "cell_type": "code",
   "execution_count": 15,
   "metadata": {},
   "outputs": [],
   "source": [
    "house_g = house[house['MAINS_GAS_FLAG'] == 1]"
   ]
  },
  {
   "cell_type": "code",
   "execution_count": 16,
   "metadata": {},
   "outputs": [],
   "source": [
    "PROP_TYPE = pd.pivot(house.loc[:,['PROPERTY_TYPE','UPRN','LSOA21CD','count','index']], \n",
    "         index = ['index','LSOA21CD'],columns='PROPERTY_TYPE', values='count'\n",
    "         ).reset_index().loc[:,['LSOA21CD','Bungalow','Flat','House','Maisonette','Park home']\n",
    "                                ].groupby('LSOA21CD').sum().reset_index(\n",
    "\n",
    "                                ).rename(columns = {'Bungalow':'Bungalow_sum','Flat':'Flat_sum',\n",
    "                                                                                            'House':'House_sum','Maisonette':'Maisonette_sum',\n",
    "                                                                                            'Park home':'Park_home_sum'})\n",
    "PROP_TYPE_g = pd.pivot(house_g.loc[:,['PROPERTY_TYPE','UPRN','LSOA21CD','count','index']], \n",
    "         index = ['index','LSOA21CD'],columns='PROPERTY_TYPE', values='count'\n",
    "         ).reset_index().loc[:,['LSOA21CD','Bungalow','Flat','House','Maisonette','Park home']\n",
    "                                ].groupby('LSOA21CD').sum().reset_index(\n",
    "\n",
    "                                ).rename(columns = {'Bungalow':'Bungalow_sum','Flat':'Flat_sum',\n",
    "                                                                                            'House':'House_sum','Maisonette':'Maisonette_sum',\n",
    "                                                                                            'Park home':'Park_home_sum'})"
   ]
  },
  {
   "cell_type": "code",
   "execution_count": 17,
   "metadata": {},
   "outputs": [],
   "source": [
    "BUILD = pd.pivot(house.loc[:,['BUILT_FORM','UPRN','LSOA21CD','count','index']], \n",
    "         index = ['index','LSOA21CD'],columns='BUILT_FORM', values='count'\n",
    "         ).reset_index().loc[:,['LSOA21CD','Detached', 'End-Terrace', 'Mid-Terrace', 'Semi-Detached']\n",
    "                                ].groupby('LSOA21CD').sum().reset_index(\n",
    "\n",
    "                                ).rename(columns = {'Detached':'Detached_sum', 'End-Terrace':'End-Terrace_sum',\n",
    "                                                     'Mid-Terrace':'Mid-Terrace_sum', 'Semi-Detached':'Semi-Detached_sum'})\n",
    "BUILD_g = pd.pivot(house_g.loc[:,['BUILT_FORM','UPRN','LSOA21CD','count','index']], \n",
    "         index = ['index','LSOA21CD'],columns='BUILT_FORM', values='count'\n",
    "         ).reset_index().loc[:,['LSOA21CD','Detached', 'End-Terrace', 'Mid-Terrace', 'Semi-Detached']\n",
    "                                ].groupby('LSOA21CD').sum().reset_index(\n",
    "\n",
    "                                ).rename(columns = {'Detached':'Detached_sum', 'End-Terrace':'End-Terrace_sum',\n",
    "                                                     'Mid-Terrace':'Mid-Terrace_sum', 'Semi-Detached':'Semi-Detached_sum'})"
   ]
  },
  {
   "cell_type": "code",
   "execution_count": 18,
   "metadata": {},
   "outputs": [],
   "source": [
    "AGE = pd.pivot(house.loc[:,['CONSTRUCTION_AGE_BAND','UPRN','LSOA21CD','count','index']], \n",
    "         index = ['index','LSOA21CD'],columns='CONSTRUCTION_AGE_BAND', values='count'\n",
    "         ).reset_index().loc[:,['LSOA21CD','1976-2002', '1930-1949', 'before_1929', '1950-1975',\n",
    "       '2003_onwards']\n",
    "                                ].groupby('LSOA21CD').sum().reset_index(\n",
    "\n",
    "                                ).rename(columns = {'1976-2002':'1976-2002_sum', '1930-1949':'1930-1949_sum', \n",
    "                                                    'before_1929':'before_1929_sum', '1950-1975':'1950-1975_sum','2003_onwards':'2003_onwards_sum'})\n",
    "\n",
    "AGE_g = pd.pivot(house_g.loc[:,['CONSTRUCTION_AGE_BAND','UPRN','LSOA21CD','count','index']], \n",
    "         index = ['index','LSOA21CD'],columns='CONSTRUCTION_AGE_BAND', values='count'\n",
    "         ).reset_index().loc[:,['LSOA21CD','1976-2002', '1930-1949', 'before_1929', '1950-1975',\n",
    "       '2003_onwards']\n",
    "                                ].groupby('LSOA21CD').sum().reset_index(\n",
    "\n",
    "                                ).rename(columns = {'1976-2002':'1976-2002_sum', '1930-1949':'1930-1949_sum', \n",
    "                                                    'before_1929':'before_1929_sum', '1950-1975':'1950-1975_sum','2003_onwards':'2003_onwards_sum'})"
   ]
  },
  {
   "cell_type": "code",
   "execution_count": 19,
   "metadata": {},
   "outputs": [],
   "source": [
    "TENURE = pd.pivot(house.loc[:,['TENURE','UPRN','LSOA21CD','count','index']], \n",
    "         index = ['index','LSOA21CD'],columns='TENURE', values='count'\n",
    "         ).reset_index().loc[:,['LSOA21CD','Owner-occupied', 'Rented (private)', 'Rented (social)']\n",
    "                                ].groupby('LSOA21CD').sum().reset_index(\n",
    "\n",
    "                                ).rename(columns = {'Owner-occupied':'Owner-occupied_sum', 'Rented (private)':'Rented (private)_sum', 'Rented (social)':'Rented (social)_sum'})\n",
    "TENURE_g = pd.pivot(house_g.loc[:,['TENURE','UPRN','LSOA21CD','count','index']], \n",
    "         index = ['index','LSOA21CD'],columns='TENURE', values='count'\n",
    "         ).reset_index().loc[:,['LSOA21CD','Owner-occupied', 'Rented (private)', 'Rented (social)']\n",
    "                                ].groupby('LSOA21CD').sum().reset_index(\n",
    "\n",
    "                                ).rename(columns = {'Owner-occupied':'Owner-occupied_sum', 'Rented (private)':'Rented (private)_sum', 'Rented (social)':'Rented (social)_sum'})"
   ]
  },
  {
   "cell_type": "code",
   "execution_count": 20,
   "metadata": {},
   "outputs": [],
   "source": [
    "agg = round(house.groupby(['LSOA21CD']\n",
    "                  ).aggregate({'TOTAL_FLOOR_AREA':['median','mean'],\n",
    "                               'MAINS_GAS_FLAG':['sum'],\n",
    "                              'count':['count']}).reset_index(),2)\n",
    "agg.columns = [c[0] + \"_\" + c[1] for c in agg.columns]\n",
    "agg = agg.rename(columns = {'LSOA21CD_':'LSOA21CD'})\n",
    "\n",
    "agg = agg.merge(TENURE, on = 'LSOA21CD'\n",
    "          ).merge(BUILD, on = 'LSOA21CD'\n",
    "                  ).merge(PROP_TYPE, on = 'LSOA21CD'\n",
    "                          ).merge(AGE, on = 'LSOA21CD')\n",
    "\n",
    "agg_g = round(house_g.groupby(['LSOA21CD']\n",
    "                  ).aggregate({'TOTAL_FLOOR_AREA':['median','mean'],\n",
    "                               'MAINS_GAS_FLAG':['sum'],\n",
    "                              'count':['count']}).reset_index(),2)\n",
    "agg_g.columns = [c[0] + \"_\" + c[1] for c in agg_g.columns]\n",
    "agg_g = agg_g.rename(columns = {'LSOA21CD_':'LSOA21CD'})\n",
    "\n",
    "agg_g = agg_g.merge(TENURE_g, on = 'LSOA21CD'\n",
    "          ).merge(BUILD_g, on = 'LSOA21CD'\n",
    "                  ).merge(PROP_TYPE_g, on = 'LSOA21CD'\n",
    "                          ).merge(AGE_g, on = 'LSOA21CD')"
   ]
  },
  {
   "cell_type": "code",
   "execution_count": 21,
   "metadata": {},
   "outputs": [],
   "source": [
    "agg.to_csv('./../../Volumes/Extreme_SSD/WORK/EPC/english_EPC/LSOA_house.csv')\n",
    "agg_g.to_csv('./../../Volumes/Extreme_SSD/WORK/EPC/english_EPC/LSOA_GAS_house.csv')"
   ]
  },
  {
   "cell_type": "code",
   "execution_count": null,
   "metadata": {},
   "outputs": [],
   "source": [
    "del house, house_g, agg, agg_g"
   ]
  },
  {
   "cell_type": "markdown",
   "metadata": {},
   "source": [
    "# LOSS"
   ]
  },
  {
   "cell_type": "code",
   "execution_count": null,
   "metadata": {},
   "outputs": [],
   "source": [
    "loss = load_compile_epc('./../../Volumes/Extreme_SSD/WORK/EPC/english_EPC/cleaned_loss/*')\n",
    "loss.head()"
   ]
  },
  {
   "cell_type": "code",
   "execution_count": null,
   "metadata": {},
   "outputs": [],
   "source": [
    "loss = loss.merge(lookup, how = 'left', on = 'UPRN')\n",
    "loss.info()"
   ]
  },
  {
   "cell_type": "code",
   "execution_count": null,
   "metadata": {},
   "outputs": [],
   "source": [
    "loss = essen_clean(loss)\n",
    "loss['count'] = 1"
   ]
  },
  {
   "cell_type": "code",
   "execution_count": null,
   "metadata": {},
   "outputs": [],
   "source": [
    "keywords = ['insulat', 'inswleid']\n",
    "# Create a regex pattern for the keywords\n",
    "pattern = '|'.join(keywords)\n",
    "# Use str.contains to create the binary column\n",
    "loss['Roof_insulati'] = loss['ROOF_DESCRIPTION'].str.contains(pattern, case=False, na=True).astype(int)\n",
    "\n",
    "keywords = ['thatch']\n",
    "# Create a regex pattern for the keywords\n",
    "pattern = '|'.join(keywords)\n",
    "# Use str.contains to create the binary column\n",
    "loss['Roof_thatch'] = loss['ROOF_DESCRIPTION'].str.contains(pattern, case=False, na=True).astype(int)"
   ]
  },
  {
   "cell_type": "code",
   "execution_count": null,
   "metadata": {},
   "outputs": [],
   "source": [
    "loss['PHOTO_SUPPLY_bi'] = np.where(loss['PHOTO_SUPPLY'] > 0 , 1 , 0)"
   ]
  },
  {
   "cell_type": "code",
   "execution_count": null,
   "metadata": {},
   "outputs": [],
   "source": [
    "loss_g = loss[loss['MAINS_GAS_FLAG'] == 'Y']"
   ]
  },
  {
   "cell_type": "code",
   "execution_count": null,
   "metadata": {},
   "outputs": [],
   "source": [
    "agg = round(loss.groupby(['LSOA21CD']\n",
    "                  ).aggregate({'MULTI_GLAZE_PROPORTION':['median','mean'],\n",
    "                               'EXTENSION_COUNT':['median','mean'],\n",
    "                               'PHOTO_SUPPLY': ['median','mean'],\n",
    "                               'PHOTO_SUPPLY_bi':['sum'],\n",
    "                               'Roof_insulati':['sum'],\n",
    "                               'Roof_thatch':['sum'],\n",
    "                              'count':['count']}).reset_index(),2)\n",
    "agg.columns = [c[0] + \"_\" + c[1] for c in agg.columns]\n",
    "agg = agg.rename(columns = {'LSOA21CD_':'LSOA21CD'})\n",
    "\n",
    "agg_g = round(loss_g.groupby(['LSOA21CD']\n",
    "                  ).aggregate({'MULTI_GLAZE_PROPORTION':['median','mean'],\n",
    "                               'EXTENSION_COUNT':['median','mean'],\n",
    "                               'PHOTO_SUPPLY': ['median','mean'],\n",
    "                               'PHOTO_SUPPLY_bi':['sum'],\n",
    "                               'Roof_insulati':['sum'],\n",
    "                               'Roof_thatch':['sum'],\n",
    "                              'count':['count']}).reset_index(),2)\n",
    "agg_g.columns = [c[0] + \"_\" + c[1] for c in agg_g.columns]\n",
    "agg_g = agg_g.rename(columns = {'LSOA21CD_':'LSOA21CD'})"
   ]
  },
  {
   "cell_type": "code",
   "execution_count": null,
   "metadata": {},
   "outputs": [],
   "source": [
    "agg.info()"
   ]
  },
  {
   "cell_type": "code",
   "execution_count": null,
   "metadata": {},
   "outputs": [],
   "source": [
    "agg_g.info()"
   ]
  },
  {
   "cell_type": "code",
   "execution_count": null,
   "metadata": {},
   "outputs": [],
   "source": [
    "agg.to_csv('./../../Volumes/Extreme_SSD/WORK/EPC/english_EPC/LSOA_loss.csv')\n",
    "agg_g.to_csv('./../../Volumes/Extreme_SSD/WORK/EPC/english_EPC/LSOA_GAS_loss.csv')"
   ]
  },
  {
   "cell_type": "code",
   "execution_count": null,
   "metadata": {},
   "outputs": [],
   "source": [
    "del loss, loss_g, agg, agg_g"
   ]
  },
  {
   "cell_type": "markdown",
   "metadata": {},
   "source": [
    "# OTHER"
   ]
  },
  {
   "cell_type": "code",
   "execution_count": null,
   "metadata": {},
   "outputs": [],
   "source": [
    "other = load_compile_epc('./../../Volumes/Extreme_SSD/WORK/EPC/english_EPC/cleaned_other/*')\n",
    "other.head()"
   ]
  },
  {
   "cell_type": "code",
   "execution_count": null,
   "metadata": {},
   "outputs": [],
   "source": [
    "other = other.merge(lookup, how = 'left', on = 'UPRN')\n",
    "other = essen_clean(other)\n",
    "other['count'] = 1"
   ]
  },
  {
   "cell_type": "code",
   "execution_count": null,
   "metadata": {},
   "outputs": [],
   "source": [
    "other['PROPERTY_TYPE'].value_counts()"
   ]
  },
  {
   "cell_type": "code",
   "execution_count": null,
   "metadata": {},
   "outputs": [],
   "source": [
    "other['TOP_FLOOR'] = np.where(other['FLOOR_LEVEL']=='top floor',1,0)"
   ]
  },
  {
   "cell_type": "code",
   "execution_count": null,
   "metadata": {},
   "outputs": [],
   "source": [
    "other['TOP_FLOOR'].value_counts()"
   ]
  },
  {
   "cell_type": "code",
   "execution_count": null,
   "metadata": {},
   "outputs": [],
   "source": [
    "other['TOP_FLOOR_FLAT'] = np.where((other['TOP_FLOOR'] == 1) & (other['PROPERTY_TYPE'].isin(['Flat','Maisonette'])), 1,0)"
   ]
  },
  {
   "cell_type": "code",
   "execution_count": null,
   "metadata": {},
   "outputs": [],
   "source": [
    "dict_tr = {'marketed sale' :'other', 'ECO assessment' :'G_deal', 'rental' :'other', 'rental (private)' :'other',\n",
    "       'new dwelling' :'other', 'FiT application' :'G_deal', 'none of the above' :'other',\n",
    "       'rental (social)' :'other', 'assessment for green deal' :'G_deal',\n",
    "       'Stock condition survey' :'other', 'non marketed sale' :'other',\n",
    "       'not sale or rental' :'other', 'RHI application' :'G_deal', 'following green deal' :'G_deal',\n",
    "       'Stock Condition Survey' :'other', 'unknown' :'other',\n",
    "       'rental (private) - this is for backwards compatibility only and should not be used' :'other',\n",
    "       'not recorded - this is for backwards compatibility only and should not be used' :'other',\n",
    "       'rental (social) - this is for backwards compatibility only and should not be used':'other'}\n",
    "\n",
    "other['TRAN_TYPE'] =  other['TRANSACTION_TYPE'].map(dict_tr)\n",
    "other = other.reset_index()"
   ]
  },
  {
   "cell_type": "code",
   "execution_count": null,
   "metadata": {},
   "outputs": [],
   "source": [
    "other_g = other[other['MAINS_GAS_FLAG'] == 'Y']"
   ]
  },
  {
   "cell_type": "code",
   "execution_count": null,
   "metadata": {},
   "outputs": [],
   "source": [
    "TRAN_TYPE = pd.pivot(other.loc[:,['TRAN_TYPE','UPRN','LSOA21CD','count','index']], \n",
    "         index = ['index','LSOA21CD'],columns='TRAN_TYPE', values='count'\n",
    "         ).reset_index().loc[:,['LSOA21CD','other', 'G_deal']\n",
    "                                ].groupby('LSOA21CD').sum().reset_index(\n",
    "\n",
    "                                ).rename(columns = {'other':'TRANS_TYPE_other_sum','G_deal':'TRANS_TYPE_govdeal_sum'})\n",
    "\n",
    "TRAN_TYPE_g = pd.pivot(other_g.loc[:,['TRAN_TYPE','UPRN','LSOA21CD','count','index']], \n",
    "         index = ['index','LSOA21CD'],columns='TRAN_TYPE', values='count'\n",
    "         ).reset_index().loc[:,['LSOA21CD','other', 'G_deal']\n",
    "                                ].groupby('LSOA21CD').sum().reset_index(\n",
    "\n",
    "                                ).rename(columns = {'other':'TRANS_TYPE_other_sum','G_deal':'TRANS_TYPE_govdeal_sum'})"
   ]
  },
  {
   "cell_type": "code",
   "execution_count": null,
   "metadata": {},
   "outputs": [],
   "source": [
    "agg = round(other.groupby(['LSOA21CD']\n",
    "                  ).aggregate({'TOP_FLOOR_FLAT':'sum',\n",
    "                              'count':['count']}).reset_index(),2)\n",
    "agg.columns = [c[0] + \"_\" + c[1] for c in agg.columns]\n",
    "agg = agg.rename(columns = {'LSOA21CD_':'LSOA21CD'})\n",
    "\n",
    "agg_g = round(other_g.groupby(['LSOA21CD']\n",
    "                  ).aggregate({'TOP_FLOOR_FLAT':'sum',\n",
    "                              'count':['count']}).reset_index(),2)\n",
    "agg_g.columns = [c[0] + \"_\" + c[1] for c in agg_g.columns]\n",
    "agg_g = agg_g.rename(columns = {'LSOA21CD_':'LSOA21CD'})"
   ]
  },
  {
   "cell_type": "code",
   "execution_count": null,
   "metadata": {},
   "outputs": [],
   "source": [
    "agg = agg.merge(TRAN_TYPE, on = 'LSOA21CD')\n",
    "agg_g = agg_g.merge(TRAN_TYPE_g, on = 'LSOA21CD')"
   ]
  },
  {
   "cell_type": "code",
   "execution_count": null,
   "metadata": {},
   "outputs": [],
   "source": [
    "agg_g.info()"
   ]
  },
  {
   "cell_type": "code",
   "execution_count": null,
   "metadata": {},
   "outputs": [],
   "source": [
    "agg_g[agg_g['count_count'] >5]"
   ]
  },
  {
   "cell_type": "code",
   "execution_count": null,
   "metadata": {},
   "outputs": [],
   "source": [
    "agg.to_csv('./../../Volumes/Extreme_SSD/WORK/EPC/english_EPC/LSOA_other.csv')\n",
    "agg_g.to_csv('./../../Volumes/Extreme_SSD/WORK/EPC/english_EPC/LSOA_GAS_other.csv')"
   ]
  }
 ],
 "metadata": {
  "kernelspec": {
   "display_name": "epc",
   "language": "python",
   "name": "python3"
  },
  "language_info": {
   "codemirror_mode": {
    "name": "ipython",
    "version": 3
   },
   "file_extension": ".py",
   "mimetype": "text/x-python",
   "name": "python",
   "nbconvert_exporter": "python",
   "pygments_lexer": "ipython3",
   "version": "3.10.15"
  }
 },
 "nbformat": 4,
 "nbformat_minor": 2
}
