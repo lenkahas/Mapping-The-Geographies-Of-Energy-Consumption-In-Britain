{
 "cells": [
  {
   "cell_type": "code",
   "execution_count": 1,
   "metadata": {},
   "outputs": [
    {
     "name": "stdout",
     "output_type": "stream",
     "text": [
      "Intel MKL WARNING: Support of Intel(R) Streaming SIMD Extensions 4.2 (Intel(R) SSE4.2) enabled only processors has been deprecated. Intel oneAPI Math Kernel Library 2025.0 will require Intel(R) Advanced Vector Extensions (Intel(R) AVX) instructions.\n",
      "Intel MKL WARNING: Support of Intel(R) Streaming SIMD Extensions 4.2 (Intel(R) SSE4.2) enabled only processors has been deprecated. Intel oneAPI Math Kernel Library 2025.0 will require Intel(R) Advanced Vector Extensions (Intel(R) AVX) instructions.\n"
     ]
    }
   ],
   "source": [
    "import pandas as pd\n",
    "import numpy as np\n",
    "import geopandas as gpd\n",
    "import glob\n",
    "import matplotlib.pyplot as plt\n",
    "import seaborn as sns"
   ]
  },
  {
   "cell_type": "code",
   "execution_count": 9,
   "metadata": {},
   "outputs": [],
   "source": [
    "def load_compile_epc(path_to_cleaned):\n",
    "\n",
    "    list_paths = glob.glob(path_to_cleaned) #path_to_cleaned = \"./../Data/Energy_Performance_Certificate/cerificates_processed/*.csv\"\n",
    "\n",
    "    data = pd.DataFrame()\n",
    "    for i in range(len(glob.glob(path_to_cleaned))):\n",
    "        x = pd.read_csv(list_paths[i])\n",
    "        data = pd.concat([data,x])\n",
    "\n",
    "    #data = gpd.GeoDataFrame(data, geometry = gpd.points_from_xy(data.LONGITUDE,data.LATITUDE), crs = \"EPSG:4326\")\n",
    "\n",
    "    return(data)\n",
    "\n",
    "def winsor(variable):\n",
    "    upper_percentile = np.percentile(variable, 99)\n",
    "    lower_percentile = np.percentile(variable, 1)\n",
    "    new_var = np.where(variable > upper_percentile, upper_percentile, variable)\n",
    "    new_var = np.where(new_var < lower_percentile, lower_percentile, new_var)\n",
    "    return(new_var)\n",
    "\n",
    "def essen_clean(data):\n",
    "    # eliminate rows before 01/05/2013\n",
    "    data['LODGEMENT_DATE'] = pd.to_datetime(data['LODGEMENT_DATE'],format = '%Y-%m-%d')\n",
    "    data = data[data['LODGEMENT_DATE'] >= '2013-05-01 00:00:00']\n",
    "    # eliminate not geolocated rows\n",
    "    data = data[~data['DataZone'].isna()]\n",
    "\n",
    "    return(data)\n",
    "\n"
   ]
  },
  {
   "cell_type": "code",
   "execution_count": 5,
   "metadata": {},
   "outputs": [],
   "source": [
    "lookup = pd.read_csv('./../../Volumes/Extreme_SSD/WORK/MAV/UPRN/uprn_datazones_lookup.csv')"
   ]
  },
  {
   "cell_type": "markdown",
   "metadata": {},
   "source": [
    "# ENERGY"
   ]
  },
  {
   "cell_type": "code",
   "execution_count": 6,
   "metadata": {},
   "outputs": [
    {
     "data": {
      "text/html": [
       "<div>\n",
       "<style scoped>\n",
       "    .dataframe tbody tr th:only-of-type {\n",
       "        vertical-align: middle;\n",
       "    }\n",
       "\n",
       "    .dataframe tbody tr th {\n",
       "        vertical-align: top;\n",
       "    }\n",
       "\n",
       "    .dataframe thead th {\n",
       "        text-align: right;\n",
       "    }\n",
       "</style>\n",
       "<table border=\"1\" class=\"dataframe\">\n",
       "  <thead>\n",
       "    <tr style=\"text-align: right;\">\n",
       "      <th></th>\n",
       "      <th>UPRN</th>\n",
       "      <th>LODGEMENT_DATE</th>\n",
       "      <th>ENERGY_CONSUMPTION_CURRENT</th>\n",
       "      <th>CURRENT_ENERGY_EFFICIENCY</th>\n",
       "      <th>CURRENT_ENERGY_RATING</th>\n",
       "      <th>ENERGY_CONSUMPTION_POTENTIAL</th>\n",
       "      <th>MAINS_GAS_FLAG</th>\n",
       "      <th>LATITUDE</th>\n",
       "      <th>LONGITUDE</th>\n",
       "    </tr>\n",
       "  </thead>\n",
       "  <tbody>\n",
       "    <tr>\n",
       "      <th>0</th>\n",
       "      <td>35000326.0</td>\n",
       "      <td>2014-09-18</td>\n",
       "      <td>469.0</td>\n",
       "      <td>67</td>\n",
       "      <td>D</td>\n",
       "      <td>164.0</td>\n",
       "      <td>Y</td>\n",
       "      <td>56.124597</td>\n",
       "      <td>-3.813194</td>\n",
       "    </tr>\n",
       "    <tr>\n",
       "      <th>1</th>\n",
       "      <td>35000379.0</td>\n",
       "      <td>2014-07-04</td>\n",
       "      <td>175.0</td>\n",
       "      <td>71</td>\n",
       "      <td>C</td>\n",
       "      <td>82.0</td>\n",
       "      <td>Y</td>\n",
       "      <td>56.108770</td>\n",
       "      <td>-3.790594</td>\n",
       "    </tr>\n",
       "    <tr>\n",
       "      <th>2</th>\n",
       "      <td>35000527.0</td>\n",
       "      <td>2014-07-03</td>\n",
       "      <td>231.0</td>\n",
       "      <td>67</td>\n",
       "      <td>D</td>\n",
       "      <td>186.0</td>\n",
       "      <td>Y</td>\n",
       "      <td>56.121653</td>\n",
       "      <td>-3.793252</td>\n",
       "    </tr>\n",
       "    <tr>\n",
       "      <th>3</th>\n",
       "      <td>35000632.0</td>\n",
       "      <td>2014-07-18</td>\n",
       "      <td>210.0</td>\n",
       "      <td>68</td>\n",
       "      <td>D</td>\n",
       "      <td>137.0</td>\n",
       "      <td>Y</td>\n",
       "      <td>56.123294</td>\n",
       "      <td>-3.798460</td>\n",
       "    </tr>\n",
       "    <tr>\n",
       "      <th>4</th>\n",
       "      <td>35000947.0</td>\n",
       "      <td>2014-09-23</td>\n",
       "      <td>294.0</td>\n",
       "      <td>57</td>\n",
       "      <td>D</td>\n",
       "      <td>105.0</td>\n",
       "      <td>Y</td>\n",
       "      <td>56.127769</td>\n",
       "      <td>-3.818717</td>\n",
       "    </tr>\n",
       "  </tbody>\n",
       "</table>\n",
       "</div>"
      ],
      "text/plain": [
       "         UPRN LODGEMENT_DATE  ENERGY_CONSUMPTION_CURRENT  \\\n",
       "0  35000326.0     2014-09-18                       469.0   \n",
       "1  35000379.0     2014-07-04                       175.0   \n",
       "2  35000527.0     2014-07-03                       231.0   \n",
       "3  35000632.0     2014-07-18                       210.0   \n",
       "4  35000947.0     2014-09-23                       294.0   \n",
       "\n",
       "   CURRENT_ENERGY_EFFICIENCY CURRENT_ENERGY_RATING  \\\n",
       "0                         67                     D   \n",
       "1                         71                     C   \n",
       "2                         67                     D   \n",
       "3                         68                     D   \n",
       "4                         57                     D   \n",
       "\n",
       "   ENERGY_CONSUMPTION_POTENTIAL MAINS_GAS_FLAG   LATITUDE  LONGITUDE  \n",
       "0                         164.0              Y  56.124597  -3.813194  \n",
       "1                          82.0              Y  56.108770  -3.790594  \n",
       "2                         186.0              Y  56.121653  -3.793252  \n",
       "3                         137.0              Y  56.123294  -3.798460  \n",
       "4                         105.0              Y  56.127769  -3.818717  "
      ]
     },
     "execution_count": 6,
     "metadata": {},
     "output_type": "execute_result"
    }
   ],
   "source": [
    "ener = load_compile_epc('./../../Volumes/Extreme_SSD/WORK/EPC/scottish_EPC/cleaned_energy/*')\n",
    "ener.head()"
   ]
  },
  {
   "cell_type": "code",
   "execution_count": 7,
   "metadata": {},
   "outputs": [
    {
     "name": "stdout",
     "output_type": "stream",
     "text": [
      "<class 'pandas.core.frame.DataFrame'>\n",
      "RangeIndex: 1435091 entries, 0 to 1435090\n",
      "Data columns (total 10 columns):\n",
      " #   Column                        Non-Null Count    Dtype  \n",
      "---  ------                        --------------    -----  \n",
      " 0   UPRN                          1435091 non-null  float64\n",
      " 1   LODGEMENT_DATE                1435091 non-null  object \n",
      " 2   ENERGY_CONSUMPTION_CURRENT    1435091 non-null  float64\n",
      " 3   CURRENT_ENERGY_EFFICIENCY     1435091 non-null  int64  \n",
      " 4   CURRENT_ENERGY_RATING         1435090 non-null  object \n",
      " 5   ENERGY_CONSUMPTION_POTENTIAL  1435091 non-null  float64\n",
      " 6   MAINS_GAS_FLAG                60049 non-null    object \n",
      " 7   LATITUDE                      1434901 non-null  float64\n",
      " 8   LONGITUDE                     1434901 non-null  float64\n",
      " 9   DataZone                      1434881 non-null  object \n",
      "dtypes: float64(5), int64(1), object(4)\n",
      "memory usage: 109.5+ MB\n"
     ]
    }
   ],
   "source": [
    "ener = ener.merge(lookup, how = 'left', on = 'UPRN')\n",
    "ener.info()"
   ]
  },
  {
   "cell_type": "code",
   "execution_count": 10,
   "metadata": {},
   "outputs": [],
   "source": [
    "ener = essen_clean(ener)"
   ]
  },
  {
   "cell_type": "code",
   "execution_count": 12,
   "metadata": {},
   "outputs": [],
   "source": [
    "# adjust the energy related variables\n",
    "ener = ener.loc[:,['CURRENT_ENERGY_RATING', 'CURRENT_ENERGY_EFFICIENCY','ENERGY_CONSUMPTION_CURRENT', 'ENERGY_CONSUMPTION_POTENTIAL', 'MAINS_GAS_FLAG','DataZone']]\n",
    "ener['count'] = 1\n",
    "dict_ener = {'A':1,'B':2,'C':3,'D':4,'E':5,'F':6,'G':7,'INVALID!': np.nan}\n",
    "ener['CURRENT_ENERGY_RATING_numbered'] = ener['CURRENT_ENERGY_RATING'].map(dict_ener)"
   ]
  },
  {
   "cell_type": "code",
   "execution_count": 13,
   "metadata": {},
   "outputs": [
    {
     "data": {
      "text/html": [
       "<div>\n",
       "<style scoped>\n",
       "    .dataframe tbody tr th:only-of-type {\n",
       "        vertical-align: middle;\n",
       "    }\n",
       "\n",
       "    .dataframe tbody tr th {\n",
       "        vertical-align: top;\n",
       "    }\n",
       "\n",
       "    .dataframe thead th {\n",
       "        text-align: right;\n",
       "    }\n",
       "</style>\n",
       "<table border=\"1\" class=\"dataframe\">\n",
       "  <thead>\n",
       "    <tr style=\"text-align: right;\">\n",
       "      <th></th>\n",
       "      <th>CURRENT_ENERGY_RATING</th>\n",
       "      <th>CURRENT_ENERGY_EFFICIENCY</th>\n",
       "      <th>ENERGY_CONSUMPTION_CURRENT</th>\n",
       "      <th>ENERGY_CONSUMPTION_POTENTIAL</th>\n",
       "      <th>MAINS_GAS_FLAG</th>\n",
       "      <th>DataZone</th>\n",
       "      <th>count</th>\n",
       "      <th>CURRENT_ENERGY_RATING_numbered</th>\n",
       "    </tr>\n",
       "  </thead>\n",
       "  <tbody>\n",
       "    <tr>\n",
       "      <th>0</th>\n",
       "      <td>D</td>\n",
       "      <td>67</td>\n",
       "      <td>469.0</td>\n",
       "      <td>164.0</td>\n",
       "      <td>Y</td>\n",
       "      <td>S01007475</td>\n",
       "      <td>1</td>\n",
       "      <td>4.0</td>\n",
       "    </tr>\n",
       "    <tr>\n",
       "      <th>1</th>\n",
       "      <td>C</td>\n",
       "      <td>71</td>\n",
       "      <td>175.0</td>\n",
       "      <td>82.0</td>\n",
       "      <td>Y</td>\n",
       "      <td>S01007465</td>\n",
       "      <td>1</td>\n",
       "      <td>3.0</td>\n",
       "    </tr>\n",
       "    <tr>\n",
       "      <th>2</th>\n",
       "      <td>D</td>\n",
       "      <td>67</td>\n",
       "      <td>231.0</td>\n",
       "      <td>186.0</td>\n",
       "      <td>Y</td>\n",
       "      <td>S01007467</td>\n",
       "      <td>1</td>\n",
       "      <td>4.0</td>\n",
       "    </tr>\n",
       "    <tr>\n",
       "      <th>3</th>\n",
       "      <td>D</td>\n",
       "      <td>68</td>\n",
       "      <td>210.0</td>\n",
       "      <td>137.0</td>\n",
       "      <td>Y</td>\n",
       "      <td>S01007470</td>\n",
       "      <td>1</td>\n",
       "      <td>4.0</td>\n",
       "    </tr>\n",
       "    <tr>\n",
       "      <th>4</th>\n",
       "      <td>D</td>\n",
       "      <td>57</td>\n",
       "      <td>294.0</td>\n",
       "      <td>105.0</td>\n",
       "      <td>Y</td>\n",
       "      <td>S01007474</td>\n",
       "      <td>1</td>\n",
       "      <td>4.0</td>\n",
       "    </tr>\n",
       "  </tbody>\n",
       "</table>\n",
       "</div>"
      ],
      "text/plain": [
       "  CURRENT_ENERGY_RATING  CURRENT_ENERGY_EFFICIENCY  \\\n",
       "0                     D                         67   \n",
       "1                     C                         71   \n",
       "2                     D                         67   \n",
       "3                     D                         68   \n",
       "4                     D                         57   \n",
       "\n",
       "   ENERGY_CONSUMPTION_CURRENT  ENERGY_CONSUMPTION_POTENTIAL MAINS_GAS_FLAG  \\\n",
       "0                       469.0                         164.0              Y   \n",
       "1                       175.0                          82.0              Y   \n",
       "2                       231.0                         186.0              Y   \n",
       "3                       210.0                         137.0              Y   \n",
       "4                       294.0                         105.0              Y   \n",
       "\n",
       "    DataZone  count  CURRENT_ENERGY_RATING_numbered  \n",
       "0  S01007475      1                             4.0  \n",
       "1  S01007465      1                             3.0  \n",
       "2  S01007467      1                             4.0  \n",
       "3  S01007470      1                             4.0  \n",
       "4  S01007474      1                             4.0  "
      ]
     },
     "execution_count": 13,
     "metadata": {},
     "output_type": "execute_result"
    }
   ],
   "source": [
    "ener.head()"
   ]
  },
  {
   "cell_type": "code",
   "execution_count": 14,
   "metadata": {},
   "outputs": [],
   "source": [
    "ener_g = ener[ener['MAINS_GAS_FLAG'] == 'Y']"
   ]
  },
  {
   "cell_type": "code",
   "execution_count": 15,
   "metadata": {},
   "outputs": [
    {
     "name": "stderr",
     "output_type": "stream",
     "text": [
      "/var/folders/t5/57qdsp617xj8dd1by4td7fl40000gq/T/ipykernel_51387/3467100616.py:2: SettingWithCopyWarning: \n",
      "A value is trying to be set on a copy of a slice from a DataFrame.\n",
      "Try using .loc[row_indexer,col_indexer] = value instead\n",
      "\n",
      "See the caveats in the documentation: https://pandas.pydata.org/pandas-docs/stable/user_guide/indexing.html#returning-a-view-versus-a-copy\n",
      "  ener_g['ENERGY_CONSUMPTION_CURRENT'] = winsor(ener_g['ENERGY_CONSUMPTION_CURRENT'])\n"
     ]
    }
   ],
   "source": [
    "ener['ENERGY_CONSUMPTION_CURRENT'] = winsor(ener['ENERGY_CONSUMPTION_CURRENT'])\n",
    "ener_g['ENERGY_CONSUMPTION_CURRENT'] = winsor(ener_g['ENERGY_CONSUMPTION_CURRENT'])"
   ]
  },
  {
   "cell_type": "code",
   "execution_count": 16,
   "metadata": {},
   "outputs": [],
   "source": [
    "# aggregate full data\n",
    "agg = round(ener.groupby(['DataZone']\n",
    "                  ).aggregate({'CURRENT_ENERGY_EFFICIENCY':['median','mean'],\n",
    "                              'CURRENT_ENERGY_RATING_numbered':['median','mean'],\n",
    "                              'ENERGY_CONSUMPTION_CURRENT':['median','mean'],\n",
    "                              'ENERGY_CONSUMPTION_POTENTIAL':['median','mean'],\n",
    "                              'count':['count']}).reset_index(),2)\n",
    "agg.columns = [c[0] + \"_\" + c[1] for c in agg.columns]\n",
    "agg = agg.rename(columns = {'DataZone_':'DataZone'})\n",
    "# aggregate the gas only data\n",
    "agg_g = round(ener_g.groupby(['DataZone']\n",
    "                  ).aggregate({'CURRENT_ENERGY_EFFICIENCY':['median','mean'],\n",
    "                              'CURRENT_ENERGY_RATING_numbered':['median','mean'],\n",
    "                              'ENERGY_CONSUMPTION_CURRENT':['median','mean'],\n",
    "                              'ENERGY_CONSUMPTION_POTENTIAL':['median','mean'],\n",
    "                              'count':['count']}).reset_index(),2)\n",
    "agg_g.columns = [c[0] + \"_\" + c[1] for c in agg_g.columns]\n",
    "agg_g = agg_g.rename(columns = {'DataZone_':'DataZone'})"
   ]
  },
  {
   "cell_type": "code",
   "execution_count": null,
   "metadata": {},
   "outputs": [],
   "source": [
    "agg.to_csv('./../../Volumes/Extreme_SSD/WORK/EPC/scottish_EPC/DZ_energy.csv')\n",
    "agg_g.to_csv('./../../Volumes/Extreme_SSD/WORK/EPC/scottish_EPC/DZ_GAS_energy.csv')"
   ]
  },
  {
   "cell_type": "markdown",
   "metadata": {},
   "source": [
    "# HEAT"
   ]
  },
  {
   "cell_type": "code",
   "execution_count": 23,
   "metadata": {},
   "outputs": [
    {
     "data": {
      "text/html": [
       "<div>\n",
       "<style scoped>\n",
       "    .dataframe tbody tr th:only-of-type {\n",
       "        vertical-align: middle;\n",
       "    }\n",
       "\n",
       "    .dataframe tbody tr th {\n",
       "        vertical-align: top;\n",
       "    }\n",
       "\n",
       "    .dataframe thead th {\n",
       "        text-align: right;\n",
       "    }\n",
       "</style>\n",
       "<table border=\"1\" class=\"dataframe\">\n",
       "  <thead>\n",
       "    <tr style=\"text-align: right;\">\n",
       "      <th></th>\n",
       "      <th>UPRN</th>\n",
       "      <th>LODGEMENT_DATE</th>\n",
       "      <th>MAINHEAT_DESCRIPTION</th>\n",
       "      <th>SECONDHEAT_DESCRIPTION</th>\n",
       "      <th>MAINS_GAS_FLAG</th>\n",
       "      <th>NUMBER_OPEN_FIREPLACES</th>\n",
       "      <th>LATITUDE</th>\n",
       "      <th>LONGITUDE</th>\n",
       "    </tr>\n",
       "  </thead>\n",
       "  <tbody>\n",
       "    <tr>\n",
       "      <th>0</th>\n",
       "      <td>35000326.0</td>\n",
       "      <td>2014-09-18</td>\n",
       "      <td>Electric storage heaters</td>\n",
       "      <td>Room heaters, electric</td>\n",
       "      <td>Y</td>\n",
       "      <td>0.0</td>\n",
       "      <td>56.124597</td>\n",
       "      <td>-3.813194</td>\n",
       "    </tr>\n",
       "    <tr>\n",
       "      <th>1</th>\n",
       "      <td>35000379.0</td>\n",
       "      <td>2014-07-04</td>\n",
       "      <td>Boiler and radiators, mains gas</td>\n",
       "      <td>Room heaters, electric</td>\n",
       "      <td>Y</td>\n",
       "      <td>0.0</td>\n",
       "      <td>56.108770</td>\n",
       "      <td>-3.790594</td>\n",
       "    </tr>\n",
       "    <tr>\n",
       "      <th>2</th>\n",
       "      <td>35000527.0</td>\n",
       "      <td>2014-07-03</td>\n",
       "      <td>Boiler and radiators, mains gas</td>\n",
       "      <td>Room heaters, mains gas</td>\n",
       "      <td>Y</td>\n",
       "      <td>0.0</td>\n",
       "      <td>56.121653</td>\n",
       "      <td>-3.793252</td>\n",
       "    </tr>\n",
       "    <tr>\n",
       "      <th>3</th>\n",
       "      <td>35000632.0</td>\n",
       "      <td>2014-07-18</td>\n",
       "      <td>Boiler and radiators, mains gas</td>\n",
       "      <td>None</td>\n",
       "      <td>Y</td>\n",
       "      <td>0.0</td>\n",
       "      <td>56.123294</td>\n",
       "      <td>-3.798460</td>\n",
       "    </tr>\n",
       "    <tr>\n",
       "      <th>4</th>\n",
       "      <td>35000947.0</td>\n",
       "      <td>2014-09-23</td>\n",
       "      <td>Boiler and radiators, mains gas</td>\n",
       "      <td>None</td>\n",
       "      <td>Y</td>\n",
       "      <td>0.0</td>\n",
       "      <td>56.127769</td>\n",
       "      <td>-3.818717</td>\n",
       "    </tr>\n",
       "  </tbody>\n",
       "</table>\n",
       "</div>"
      ],
      "text/plain": [
       "         UPRN LODGEMENT_DATE              MAINHEAT_DESCRIPTION  \\\n",
       "0  35000326.0     2014-09-18         Electric storage heaters    \n",
       "1  35000379.0     2014-07-04  Boiler and radiators, mains gas    \n",
       "2  35000527.0     2014-07-03  Boiler and radiators, mains gas    \n",
       "3  35000632.0     2014-07-18  Boiler and radiators, mains gas    \n",
       "4  35000947.0     2014-09-23  Boiler and radiators, mains gas    \n",
       "\n",
       "     SECONDHEAT_DESCRIPTION MAINS_GAS_FLAG  NUMBER_OPEN_FIREPLACES   LATITUDE  \\\n",
       "0   Room heaters, electric               Y                     0.0  56.124597   \n",
       "1   Room heaters, electric               Y                     0.0  56.108770   \n",
       "2  Room heaters, mains gas               Y                     0.0  56.121653   \n",
       "3                     None               Y                     0.0  56.123294   \n",
       "4                     None               Y                     0.0  56.127769   \n",
       "\n",
       "   LONGITUDE  \n",
       "0  -3.813194  \n",
       "1  -3.790594  \n",
       "2  -3.793252  \n",
       "3  -3.798460  \n",
       "4  -3.818717  "
      ]
     },
     "execution_count": 23,
     "metadata": {},
     "output_type": "execute_result"
    }
   ],
   "source": [
    "heat = load_compile_epc('./../../Volumes/Extreme_SSD/WORK/EPC/scottish_EPC/cleaned_heat/*')\n",
    "heat.head()"
   ]
  },
  {
   "cell_type": "code",
   "execution_count": 25,
   "metadata": {},
   "outputs": [
    {
     "name": "stdout",
     "output_type": "stream",
     "text": [
      "<class 'pandas.core.frame.DataFrame'>\n",
      "RangeIndex: 1435091 entries, 0 to 1435090\n",
      "Data columns (total 9 columns):\n",
      " #   Column                  Non-Null Count    Dtype  \n",
      "---  ------                  --------------    -----  \n",
      " 0   UPRN                    1435091 non-null  float64\n",
      " 1   LODGEMENT_DATE          1435091 non-null  object \n",
      " 2   MAINHEAT_DESCRIPTION    1435091 non-null  object \n",
      " 3   SECONDHEAT_DESCRIPTION  1348136 non-null  object \n",
      " 4   MAINS_GAS_FLAG          60049 non-null    object \n",
      " 5   NUMBER_OPEN_FIREPLACES  1434505 non-null  float64\n",
      " 6   LATITUDE                1434901 non-null  float64\n",
      " 7   LONGITUDE               1434901 non-null  float64\n",
      " 8   DataZone                1434881 non-null  object \n",
      "dtypes: float64(4), object(5)\n",
      "memory usage: 98.5+ MB\n"
     ]
    }
   ],
   "source": [
    "heat = heat.merge(lookup, how = 'left', on = 'UPRN')\n",
    "heat.info()"
   ]
  },
  {
   "cell_type": "code",
   "execution_count": 26,
   "metadata": {},
   "outputs": [],
   "source": [
    "heat = essen_clean(heat)\n",
    "heat['count'] = 1"
   ]
  },
  {
   "cell_type": "markdown",
   "metadata": {},
   "source": [
    "def return_binary_heat(source_var, str_name):\n",
    "    var = source_var.str.find(str_name)\n",
    "    var = np.where(var > 0, 1,0)\n",
    "    return var\n",
    "\n",
    "#heat['electric'] = return_binary_heat(source_var = heat['MAINHEAT_DESCRIPTION'], \n",
    "                                          str_name =  'electric')\n"
   ]
  },
  {
   "cell_type": "markdown",
   "metadata": {},
   "source": [
    "## mainheating"
   ]
  },
  {
   "cell_type": "code",
   "execution_count": 29,
   "metadata": {},
   "outputs": [],
   "source": [
    "keywords = ['electric', 'trydan']\n",
    "# Create a regex pattern for the keywords\n",
    "pattern = '|'.join(keywords)\n",
    "# Use str.contains to create the binary column\n",
    "heat['MAIN_electric'] = heat['MAINHEAT_DESCRIPTION'].str.contains(pattern, case=False, na=True).astype(int)\n",
    "keywords = ['wood', 'coal', 'LPG', \n",
    "' oil', 'anthracite', 'smokeless',\n",
    "'bio', 'B30K', 'solid fuel', 'coal', 'wood',\n",
    " 'olew', 'choed', 'LNG']\n",
    "# Create a regex pattern for the keywords\n",
    "pattern = '|'.join(keywords)\n",
    "# Use str.contains to create the binary column\n",
    "heat['MAIN_solid_fuel'] = heat['MAINHEAT_DESCRIPTION'].str.contains(pattern, case=False, na=True).astype(int)"
   ]
  },
  {
   "cell_type": "code",
   "execution_count": 30,
   "metadata": {},
   "outputs": [],
   "source": [
    "heat['MAIN_other'] = np.where(((heat['MAIN_electric'] == 0) | (heat['MAIN_solid_fuel'] == 0)), 1,0)\n",
    "heat['MAIN_electric_other'] = np.where((heat['MAIN_electric'] & heat['MAIN_other']), 1, 0)\n",
    "heat['MAIN_electric_solid'] = np.where((heat['MAIN_electric'] & heat['MAIN_solid_fuel']), 1, 0)\n",
    "heat['MAIN_solid_other'] = np.where((heat['MAIN_solid_fuel'] & heat['MAIN_other']), 1, 0)"
   ]
  },
  {
   "cell_type": "code",
   "execution_count": 31,
   "metadata": {},
   "outputs": [],
   "source": [
    "for i in [ 'MAIN_electric','MAIN_solid_fuel',\n",
    "       'MAIN_other', 'MAIN_electric_other', 'MAIN_electric_solid',\n",
    "       'MAIN_solid_other']: \n",
    "       heat[i] = np.where(heat['MAINHEAT_DESCRIPTION'].isna(), np.nan, heat[i] )"
   ]
  },
  {
   "cell_type": "markdown",
   "metadata": {},
   "source": [
    "## secondheating"
   ]
  },
  {
   "cell_type": "code",
   "execution_count": 33,
   "metadata": {},
   "outputs": [],
   "source": [
    "keywords = ['electric', 'trydan']\n",
    "# Create a regex pattern for the keywords\n",
    "pattern = '|'.join(keywords)\n",
    "# Use str.contains to create the binary column\n",
    "heat['SECOND_electric'] = heat['SECONDHEAT_DESCRIPTION'].str.contains(pattern, case=False, na=True).astype(int)\n",
    "keywords = ['wood', 'coal', 'LPG', \n",
    "' oil', 'anthracite', 'smokeless',\n",
    "'bio', 'B30K', 'solid fuel', 'coal', 'wood',\n",
    " 'olew', 'choed', 'LNG']\n",
    "# Create a regex pattern for the keywords\n",
    "pattern = '|'.join(keywords)\n",
    "# Use str.contains to create the binary column\n",
    "heat['SECOND_solid_fuel'] = heat['SECONDHEAT_DESCRIPTION'].str.contains(pattern, case=False, na=True).astype(int)"
   ]
  },
  {
   "cell_type": "code",
   "execution_count": 34,
   "metadata": {},
   "outputs": [],
   "source": [
    "heat['SECOND_other'] = np.where(((heat['SECOND_electric'] == 0) | (heat['SECOND_solid_fuel'] == 0)), 1,0)\n",
    "heat['SECOND_electric_other'] = np.where((heat['SECOND_electric'] & heat['SECOND_other']), 1, 0)\n",
    "heat['SECOND_electric_solid'] = np.where((heat['SECOND_electric'] & heat['SECOND_solid_fuel']), 1, 0)\n",
    "heat['SECOND_solid_other'] = np.where((heat['SECOND_solid_fuel'] & heat['SECOND_other']), 1, 0)"
   ]
  },
  {
   "cell_type": "code",
   "execution_count": 35,
   "metadata": {},
   "outputs": [],
   "source": [
    "for i in [ 'SECOND_electric','SECOND_solid_fuel',\n",
    "       'SECOND_other', 'SECOND_electric_other', 'SECOND_electric_solid',\n",
    "       'SECOND_solid_other']: \n",
    "       heat[i] = np.where(heat['SECONDHEAT_DESCRIPTION'].isna(), np.nan, heat[i] )"
   ]
  },
  {
   "cell_type": "markdown",
   "metadata": {},
   "source": [
    "## other the heat variables"
   ]
  },
  {
   "cell_type": "code",
   "execution_count": 36,
   "metadata": {},
   "outputs": [],
   "source": [
    "heat['NUMBER_OPEN_FIREPLACES_binary'] = np.where(heat['NUMBER_OPEN_FIREPLACES'] >=1, 1, 0)"
   ]
  },
  {
   "cell_type": "code",
   "execution_count": 37,
   "metadata": {},
   "outputs": [],
   "source": [
    "heat_g = heat[heat['MAINS_GAS_FLAG'] == 'Y']"
   ]
  },
  {
   "cell_type": "markdown",
   "metadata": {},
   "source": [
    "## aggregate"
   ]
  },
  {
   "cell_type": "code",
   "execution_count": 38,
   "metadata": {},
   "outputs": [],
   "source": [
    "agg = round(heat.groupby(['DataZone']\n",
    "                  ).aggregate({'NUMBER_OPEN_FIREPLACES':['sum','median','mean'],\n",
    "                              'NUMBER_OPEN_FIREPLACES_binary':['sum'],\n",
    "                              'MAIN_electric':['sum'],\n",
    "                                'MAIN_solid_fuel':['sum'],\n",
    "                                'MAIN_other':['sum'], \n",
    "                                'MAIN_electric_other':['sum'], \n",
    "                                'MAIN_electric_solid':['sum'],\n",
    "                                'MAIN_solid_other':['sum'], \n",
    "                                'SECOND_electric':['sum'], \n",
    "                                'SECOND_solid_fuel':['sum'],\n",
    "                                'SECOND_other':['sum'], \n",
    "                                'SECOND_electric_other':['sum'], \n",
    "                                'SECOND_electric_solid':['sum'],\n",
    "                                'SECOND_solid_other':['sum'],\n",
    "                              'count':['count']}).reset_index(),2)\n",
    "agg.columns = [c[0] + \"_\" + c[1] for c in agg.columns]\n",
    "agg = agg.rename(columns = {'DataZone_':'DataZone'})\n",
    "\n",
    "agg_g = round(heat_g.groupby(['DataZone']\n",
    "                  ).aggregate({'NUMBER_OPEN_FIREPLACES':['sum','median','mean'],\n",
    "                              'NUMBER_OPEN_FIREPLACES_binary':['sum'],\n",
    "                              'MAIN_electric':['sum'],\n",
    "                                'MAIN_solid_fuel':['sum'],\n",
    "                                'MAIN_other':['sum'], \n",
    "                                'MAIN_electric_other':['sum'], \n",
    "                                'MAIN_electric_solid':['sum'],\n",
    "                                'MAIN_solid_other':['sum'], \n",
    "                                'SECOND_electric':['sum'], \n",
    "                                'SECOND_solid_fuel':['sum'],\n",
    "                                'SECOND_other':['sum'], \n",
    "                                'SECOND_electric_other':['sum'], \n",
    "                                'SECOND_electric_solid':['sum'],\n",
    "                                'SECOND_solid_other':['sum'],\n",
    "                              'count':['count']}).reset_index(),2)\n",
    "agg_g.columns = [c[0] + \"_\" + c[1] for c in agg_g.columns]\n",
    "agg_g = agg_g.rename(columns = {'DataZone_':'DataZone'})"
   ]
  },
  {
   "cell_type": "code",
   "execution_count": 45,
   "metadata": {},
   "outputs": [],
   "source": [
    "agg.to_csv('./../../Volumes/Extreme_SSD/WORK/EPC/scottish_EPC/DZ_heat.csv')\n",
    "agg_g.to_csv('./../../Volumes/Extreme_SSD/WORK/EPC/scottish_EPC/DZ_GAS_heat.csv')"
   ]
  },
  {
   "cell_type": "code",
   "execution_count": 42,
   "metadata": {},
   "outputs": [],
   "source": [
    "del heat, heat_g, agg, agg_g"
   ]
  },
  {
   "cell_type": "markdown",
   "metadata": {},
   "source": [
    "# HOUSE"
   ]
  },
  {
   "cell_type": "code",
   "execution_count": 185,
   "metadata": {},
   "outputs": [
    {
     "data": {
      "text/html": [
       "<div>\n",
       "<style scoped>\n",
       "    .dataframe tbody tr th:only-of-type {\n",
       "        vertical-align: middle;\n",
       "    }\n",
       "\n",
       "    .dataframe tbody tr th {\n",
       "        vertical-align: top;\n",
       "    }\n",
       "\n",
       "    .dataframe thead th {\n",
       "        text-align: right;\n",
       "    }\n",
       "</style>\n",
       "<table border=\"1\" class=\"dataframe\">\n",
       "  <thead>\n",
       "    <tr style=\"text-align: right;\">\n",
       "      <th></th>\n",
       "      <th>UPRN</th>\n",
       "      <th>LODGEMENT_DATE</th>\n",
       "      <th>TOTAL_FLOOR_AREA</th>\n",
       "      <th>CONSTRUCTION_AGE_BAND</th>\n",
       "      <th>MAINS_GAS_FLAG</th>\n",
       "      <th>TENURE</th>\n",
       "      <th>BUILT_FORM</th>\n",
       "      <th>PROPERTY_TYPE</th>\n",
       "      <th>LATITUDE</th>\n",
       "      <th>LONGITUDE</th>\n",
       "    </tr>\n",
       "  </thead>\n",
       "  <tbody>\n",
       "    <tr>\n",
       "      <th>0</th>\n",
       "      <td>35000326.0</td>\n",
       "      <td>2014-09-18</td>\n",
       "      <td>43</td>\n",
       "      <td>1984-1991</td>\n",
       "      <td>Y</td>\n",
       "      <td>owner-occupied</td>\n",
       "      <td>End-Terrace</td>\n",
       "      <td>Flat</td>\n",
       "      <td>56.124597</td>\n",
       "      <td>-3.813194</td>\n",
       "    </tr>\n",
       "    <tr>\n",
       "      <th>1</th>\n",
       "      <td>35000379.0</td>\n",
       "      <td>2014-07-04</td>\n",
       "      <td>78</td>\n",
       "      <td>1976-1983</td>\n",
       "      <td>Y</td>\n",
       "      <td>rented (social)</td>\n",
       "      <td>Mid-Terrace</td>\n",
       "      <td>House</td>\n",
       "      <td>56.108770</td>\n",
       "      <td>-3.790594</td>\n",
       "    </tr>\n",
       "    <tr>\n",
       "      <th>2</th>\n",
       "      <td>35000527.0</td>\n",
       "      <td>2014-07-03</td>\n",
       "      <td>60</td>\n",
       "      <td>1930-1949</td>\n",
       "      <td>Y</td>\n",
       "      <td>owner-occupied</td>\n",
       "      <td>Semi-Detached</td>\n",
       "      <td>Flat</td>\n",
       "      <td>56.121653</td>\n",
       "      <td>-3.793252</td>\n",
       "    </tr>\n",
       "    <tr>\n",
       "      <th>3</th>\n",
       "      <td>35000632.0</td>\n",
       "      <td>2014-07-18</td>\n",
       "      <td>71</td>\n",
       "      <td>1919-1929</td>\n",
       "      <td>Y</td>\n",
       "      <td>rented (social)</td>\n",
       "      <td>Semi-Detached</td>\n",
       "      <td>Flat</td>\n",
       "      <td>56.123294</td>\n",
       "      <td>-3.798460</td>\n",
       "    </tr>\n",
       "    <tr>\n",
       "      <th>4</th>\n",
       "      <td>35000947.0</td>\n",
       "      <td>2014-09-23</td>\n",
       "      <td>81</td>\n",
       "      <td>1965-1975</td>\n",
       "      <td>Y</td>\n",
       "      <td>owner-occupied</td>\n",
       "      <td>Detached</td>\n",
       "      <td>House</td>\n",
       "      <td>56.127769</td>\n",
       "      <td>-3.818717</td>\n",
       "    </tr>\n",
       "  </tbody>\n",
       "</table>\n",
       "</div>"
      ],
      "text/plain": [
       "         UPRN LODGEMENT_DATE  TOTAL_FLOOR_AREA CONSTRUCTION_AGE_BAND  \\\n",
       "0  35000326.0     2014-09-18                43             1984-1991   \n",
       "1  35000379.0     2014-07-04                78             1976-1983   \n",
       "2  35000527.0     2014-07-03                60             1930-1949   \n",
       "3  35000632.0     2014-07-18                71             1919-1929   \n",
       "4  35000947.0     2014-09-23                81             1965-1975   \n",
       "\n",
       "  MAINS_GAS_FLAG           TENURE     BUILT_FORM PROPERTY_TYPE   LATITUDE  \\\n",
       "0              Y   owner-occupied    End-Terrace          Flat  56.124597   \n",
       "1              Y  rented (social)    Mid-Terrace         House  56.108770   \n",
       "2              Y   owner-occupied  Semi-Detached          Flat  56.121653   \n",
       "3              Y  rented (social)  Semi-Detached          Flat  56.123294   \n",
       "4              Y   owner-occupied       Detached         House  56.127769   \n",
       "\n",
       "   LONGITUDE  \n",
       "0  -3.813194  \n",
       "1  -3.790594  \n",
       "2  -3.793252  \n",
       "3  -3.798460  \n",
       "4  -3.818717  "
      ]
     },
     "execution_count": 185,
     "metadata": {},
     "output_type": "execute_result"
    }
   ],
   "source": [
    "house = load_compile_epc('./../../Volumes/Extreme_SSD/WORK/EPC/scottish_EPC/cleaned_house/*')\n",
    "house.head()"
   ]
  },
  {
   "cell_type": "code",
   "execution_count": 186,
   "metadata": {},
   "outputs": [
    {
     "name": "stdout",
     "output_type": "stream",
     "text": [
      "<class 'pandas.core.frame.DataFrame'>\n",
      "RangeIndex: 1435091 entries, 0 to 1435090\n",
      "Data columns (total 11 columns):\n",
      " #   Column                 Non-Null Count    Dtype  \n",
      "---  ------                 --------------    -----  \n",
      " 0   UPRN                   1435091 non-null  float64\n",
      " 1   LODGEMENT_DATE         1435091 non-null  object \n",
      " 2   TOTAL_FLOOR_AREA       1435091 non-null  int64  \n",
      " 3   CONSTRUCTION_AGE_BAND  1299300 non-null  object \n",
      " 4   MAINS_GAS_FLAG         60049 non-null    object \n",
      " 5   TENURE                 1435091 non-null  object \n",
      " 6   BUILT_FORM             1430077 non-null  object \n",
      " 7   PROPERTY_TYPE          1435091 non-null  object \n",
      " 8   LATITUDE               1434901 non-null  float64\n",
      " 9   LONGITUDE              1434901 non-null  float64\n",
      " 10  DataZone               1434881 non-null  object \n",
      "dtypes: float64(3), int64(1), object(7)\n",
      "memory usage: 120.4+ MB\n"
     ]
    }
   ],
   "source": [
    "house = house.merge(lookup, how = 'left', on = 'UPRN')\n",
    "house.info()"
   ]
  },
  {
   "cell_type": "code",
   "execution_count": 187,
   "metadata": {},
   "outputs": [],
   "source": [
    "house = essen_clean(house)\n",
    "house['count'] = 1\n",
    "house = house.reset_index()"
   ]
  },
  {
   "cell_type": "code",
   "execution_count": 188,
   "metadata": {},
   "outputs": [],
   "source": [
    "house['BUILT_FORM'] = np.where(house['BUILT_FORM'] == 'NO DATA!', np.nan,house['BUILT_FORM'] )"
   ]
  },
  {
   "cell_type": "code",
   "execution_count": 189,
   "metadata": {},
   "outputs": [],
   "source": [
    "dict_ten = {'owner-occupied':'Owner-occupied', 'rented (private)':'Rented (private)', 'rented (social)':'Rented (social)', 'unknown':np.nan}\n",
    "house['TENURE'] = house['TENURE'].map(dict_ten)"
   ]
  },
  {
   "cell_type": "code",
   "execution_count": 194,
   "metadata": {},
   "outputs": [],
   "source": [
    "dict_age = {'1984-1991':'1976-2002', \n",
    "            '1976-1983':'1976-2002', \n",
    "            '1930-1949':'1930-1949', \n",
    "            '1919-1929':'before_1929', \n",
    "            '1965-1975':'1950-1975',\n",
    "            '1992-1998':'1976-2002', \n",
    "            '1950-1964':'1950-1975', \n",
    "            '2003-2007':'2003_onwards', \n",
    "            'before 1919':'before_1929', \n",
    "            '1999-2002':'1976-2002',\n",
    "            '2008 onwards':'2003_onwards'}\n",
    "house['CONSTRUCTION_AGE_BAND'] = house['CONSTRUCTION_AGE_BAND'].map(dict_age)"
   ]
  },
  {
   "cell_type": "code",
   "execution_count": 195,
   "metadata": {},
   "outputs": [],
   "source": [
    "gas = {'N':0,'Y':1}\n",
    "house['MAINS_GAS_FLAG'] = house['MAINS_GAS_FLAG'].map(gas)"
   ]
  },
  {
   "cell_type": "code",
   "execution_count": 196,
   "metadata": {},
   "outputs": [],
   "source": [
    "house_g = house[house['MAINS_GAS_FLAG'] == 1]"
   ]
  },
  {
   "cell_type": "code",
   "execution_count": 197,
   "metadata": {},
   "outputs": [],
   "source": [
    "PROP_TYPE = pd.pivot(house.loc[:,['PROPERTY_TYPE','UPRN','DataZone','count','index']], \n",
    "         index = ['index','DataZone'],columns='PROPERTY_TYPE', values='count'\n",
    "         ).reset_index().loc[:,['DataZone','Bungalow','Flat','House','Maisonette','Park home']\n",
    "                                ].groupby('DataZone').sum().reset_index(\n",
    "\n",
    "                                ).rename(columns = {'Bungalow':'Bungalow_sum','Flat':'Flat_sum',\n",
    "                                                                                            'House':'House_sum','Maisonette':'Maisonette_sum',\n",
    "                                                                                            'Park home':'Park_home_sum'})\n",
    "PROP_TYPE_g = pd.pivot(house_g.loc[:,['PROPERTY_TYPE','UPRN','DataZone','count','index']], \n",
    "         index = ['index','DataZone'],columns='PROPERTY_TYPE', values='count'\n",
    "         ).reset_index().loc[:,['DataZone','Bungalow','Flat','House','Maisonette']\n",
    "                                ].groupby('DataZone').sum().reset_index(\n",
    "\n",
    "                                ).rename(columns = {'Bungalow':'Bungalow_sum','Flat':'Flat_sum',\n",
    "                                                                                            'House':'House_sum','Maisonette':'Maisonette_sum'})"
   ]
  },
  {
   "cell_type": "code",
   "execution_count": 198,
   "metadata": {},
   "outputs": [],
   "source": [
    "BUILD = pd.pivot(house.loc[:,['BUILT_FORM','UPRN','DataZone','count','index']], \n",
    "         index = ['index','DataZone'],columns='BUILT_FORM', values='count'\n",
    "         ).reset_index().loc[:,['DataZone','Detached', 'End-Terrace', 'Mid-Terrace', 'Semi-Detached']\n",
    "                                ].groupby('DataZone').sum().reset_index(\n",
    "\n",
    "                                ).rename(columns = {'Detached':'Detached_sum', 'End-Terrace':'End-Terrace_sum',\n",
    "                                                     'Mid-Terrace':'Mid-Terrace_sum', 'Semi-Detached':'Semi-Detached_sum'})\n",
    "BUILD_g = pd.pivot(house_g.loc[:,['BUILT_FORM','UPRN','DataZone','count','index']], \n",
    "         index = ['index','DataZone'],columns='BUILT_FORM', values='count'\n",
    "         ).reset_index().loc[:,['DataZone','Detached', 'End-Terrace', 'Mid-Terrace', 'Semi-Detached']\n",
    "                                ].groupby('DataZone').sum().reset_index(\n",
    "\n",
    "                                ).rename(columns = {'Detached':'Detached_sum', 'End-Terrace':'End-Terrace_sum',\n",
    "                                                     'Mid-Terrace':'Mid-Terrace_sum', 'Semi-Detached':'Semi-Detached_sum'})"
   ]
  },
  {
   "cell_type": "code",
   "execution_count": 199,
   "metadata": {},
   "outputs": [
    {
     "data": {
      "text/plain": [
       "array(['1976-2002', '1930-1949', 'before_1929', '1950-1975',\n",
       "       '2003_onwards', nan], dtype=object)"
      ]
     },
     "execution_count": 199,
     "metadata": {},
     "output_type": "execute_result"
    }
   ],
   "source": [
    "house['CONSTRUCTION_AGE_BAND'].unique()"
   ]
  },
  {
   "cell_type": "code",
   "execution_count": 200,
   "metadata": {},
   "outputs": [],
   "source": [
    "AGE = pd.pivot(house.loc[:,['CONSTRUCTION_AGE_BAND','UPRN','DataZone','count','index']], \n",
    "         index = ['index','DataZone'],columns='CONSTRUCTION_AGE_BAND', values='count'\n",
    "         ).reset_index().loc[:,['DataZone','1976-2002', '1930-1949', 'before_1929', '1950-1975',\n",
    "       '2003_onwards']\n",
    "                                ].groupby('DataZone').sum().reset_index(\n",
    "\n",
    "                                ).rename(columns = {'1976-2002':'1976-2002_sum', '1930-1949':'1930-1949_sum', \n",
    "                                                    'before_1929':'before_1929_sum', '1950-1975':'1950-1975_sum','2003_onwards':'2003_onwards_sum'})\n",
    "\n",
    "AGE_g = pd.pivot(house_g.loc[:,['CONSTRUCTION_AGE_BAND','UPRN','DataZone','count','index']], \n",
    "         index = ['index','DataZone'],columns='CONSTRUCTION_AGE_BAND', values='count'\n",
    "         ).reset_index().loc[:,['DataZone','1976-2002', '1930-1949', 'before_1929', '1950-1975','2003_onwards']\n",
    "                                ].groupby('DataZone').sum().reset_index(\n",
    "\n",
    "                                ).rename(columns = {'1976-2002':'1976-2002_sum', '1930-1949':'1930-1949_sum', \n",
    "                                                    'before_1929':'before_1929_sum', '1950-1975':'1950-1975_sum','2003_onwards':'2003_onwards_sum'})"
   ]
  },
  {
   "cell_type": "code",
   "execution_count": 201,
   "metadata": {},
   "outputs": [],
   "source": [
    "TENURE = pd.pivot(house.loc[:,['TENURE','UPRN','DataZone','count','index']], \n",
    "         index = ['index','DataZone'],columns='TENURE', values='count'\n",
    "         ).reset_index().loc[:,['DataZone','Owner-occupied', 'Rented (private)', 'Rented (social)']\n",
    "                                ].groupby('DataZone').sum().reset_index(\n",
    "\n",
    "                                ).rename(columns = {'Owner-occupied':'Owner-occupied_sum', 'Rented (private)':'Rented (private)_sum', 'Rented (social)':'Rented (social)_sum'})\n",
    "TENURE_g = pd.pivot(house_g.loc[:,['TENURE','UPRN','DataZone','count','index']], \n",
    "         index = ['index','DataZone'],columns='TENURE', values='count'\n",
    "         ).reset_index().loc[:,['DataZone','Owner-occupied', 'Rented (private)', 'Rented (social)']\n",
    "                                ].groupby('DataZone').sum().reset_index(\n",
    "\n",
    "                                ).rename(columns = {'Owner-occupied':'Owner-occupied_sum', 'Rented (private)':'Rented (private)_sum', 'Rented (social)':'Rented (social)_sum'})"
   ]
  },
  {
   "cell_type": "code",
   "execution_count": 202,
   "metadata": {},
   "outputs": [],
   "source": [
    "agg = round(house.groupby(['DataZone']\n",
    "                  ).aggregate({'TOTAL_FLOOR_AREA':['median','mean'],\n",
    "                               'MAINS_GAS_FLAG':['sum'],\n",
    "                              'count':['count']}).reset_index(),2)\n",
    "agg.columns = [c[0] + \"_\" + c[1] for c in agg.columns]\n",
    "agg = agg.rename(columns = {'DataZone_':'DataZone'})\n",
    "\n",
    "agg = agg.merge(TENURE, on = 'DataZone'\n",
    "          ).merge(BUILD, on = 'DataZone'\n",
    "                  ).merge(PROP_TYPE, on = 'DataZone'\n",
    "                          ).merge(AGE, on = 'DataZone')\n",
    "\n",
    "agg_g = round(house_g.groupby(['DataZone']\n",
    "                  ).aggregate({'TOTAL_FLOOR_AREA':['median','mean'],\n",
    "                               'MAINS_GAS_FLAG':['sum'],\n",
    "                              'count':['count']}).reset_index(),2)\n",
    "agg_g.columns = [c[0] + \"_\" + c[1] for c in agg_g.columns]\n",
    "agg_g = agg_g.rename(columns = {'DataZone_':'DataZone'})\n",
    "\n",
    "agg_g = agg_g.merge(TENURE_g, on = 'DataZone'\n",
    "          ).merge(BUILD_g, on = 'DataZone'\n",
    "                  ).merge(PROP_TYPE_g, on = 'DataZone'\n",
    "                          ).merge(AGE_g, on = 'DataZone')"
   ]
  },
  {
   "cell_type": "code",
   "execution_count": 203,
   "metadata": {},
   "outputs": [],
   "source": [
    "agg.to_csv('./../../Volumes/Extreme_SSD/WORK/EPC/scottish_EPC/DZ_house.csv')\n",
    "agg_g.to_csv('./../../Volumes/Extreme_SSD/WORK/EPC/scottish_EPC/DZ_GAS_house.csv')"
   ]
  },
  {
   "cell_type": "code",
   "execution_count": 73,
   "metadata": {},
   "outputs": [],
   "source": [
    "del house, house_g, agg, agg_g"
   ]
  },
  {
   "cell_type": "markdown",
   "metadata": {},
   "source": [
    "# LOSS"
   ]
  },
  {
   "cell_type": "code",
   "execution_count": 204,
   "metadata": {},
   "outputs": [
    {
     "data": {
      "text/html": [
       "<div>\n",
       "<style scoped>\n",
       "    .dataframe tbody tr th:only-of-type {\n",
       "        vertical-align: middle;\n",
       "    }\n",
       "\n",
       "    .dataframe tbody tr th {\n",
       "        vertical-align: top;\n",
       "    }\n",
       "\n",
       "    .dataframe thead th {\n",
       "        text-align: right;\n",
       "    }\n",
       "</style>\n",
       "<table border=\"1\" class=\"dataframe\">\n",
       "  <thead>\n",
       "    <tr style=\"text-align: right;\">\n",
       "      <th></th>\n",
       "      <th>UPRN</th>\n",
       "      <th>LODGEMENT_DATE</th>\n",
       "      <th>ROOF_DESCRIPTION</th>\n",
       "      <th>EXTENSION_COUNT</th>\n",
       "      <th>MAINS_GAS_FLAG</th>\n",
       "      <th>MULTI_GLAZE_PROPORTION</th>\n",
       "      <th>PHOTO_SUPPLY</th>\n",
       "      <th>LATITUDE</th>\n",
       "      <th>LONGITUDE</th>\n",
       "    </tr>\n",
       "  </thead>\n",
       "  <tbody>\n",
       "    <tr>\n",
       "      <th>0</th>\n",
       "      <td>35000326.0</td>\n",
       "      <td>2014-09-18</td>\n",
       "      <td>Pitched, 100 mm loft insulation</td>\n",
       "      <td>0</td>\n",
       "      <td>Y</td>\n",
       "      <td>0</td>\n",
       "      <td>Array: Roof Area: 0%;  |</td>\n",
       "      <td>56.124597</td>\n",
       "      <td>-3.813194</td>\n",
       "    </tr>\n",
       "    <tr>\n",
       "      <th>1</th>\n",
       "      <td>35000379.0</td>\n",
       "      <td>2014-07-04</td>\n",
       "      <td>Pitched, 250 mm loft insulation</td>\n",
       "      <td>0</td>\n",
       "      <td>Y</td>\n",
       "      <td>100</td>\n",
       "      <td>Array: Roof Area: 0%;  |</td>\n",
       "      <td>56.108770</td>\n",
       "      <td>-3.790594</td>\n",
       "    </tr>\n",
       "    <tr>\n",
       "      <th>2</th>\n",
       "      <td>35000527.0</td>\n",
       "      <td>2014-07-03</td>\n",
       "      <td>(another dwelling above)</td>\n",
       "      <td>0</td>\n",
       "      <td>Y</td>\n",
       "      <td>100</td>\n",
       "      <td>Array: Roof Area: 0%;  |</td>\n",
       "      <td>56.121653</td>\n",
       "      <td>-3.793252</td>\n",
       "    </tr>\n",
       "    <tr>\n",
       "      <th>3</th>\n",
       "      <td>35000632.0</td>\n",
       "      <td>2014-07-18</td>\n",
       "      <td>(another dwelling above)</td>\n",
       "      <td>0</td>\n",
       "      <td>Y</td>\n",
       "      <td>100</td>\n",
       "      <td>Array: Roof Area: 0%;  |</td>\n",
       "      <td>56.123294</td>\n",
       "      <td>-3.798460</td>\n",
       "    </tr>\n",
       "    <tr>\n",
       "      <th>4</th>\n",
       "      <td>35000947.0</td>\n",
       "      <td>2014-09-23</td>\n",
       "      <td>Pitched, 250 mm loft insulation</td>\n",
       "      <td>0</td>\n",
       "      <td>Y</td>\n",
       "      <td>100</td>\n",
       "      <td>Array: Roof Area: 0%;  |</td>\n",
       "      <td>56.127769</td>\n",
       "      <td>-3.818717</td>\n",
       "    </tr>\n",
       "  </tbody>\n",
       "</table>\n",
       "</div>"
      ],
      "text/plain": [
       "         UPRN LODGEMENT_DATE                  ROOF_DESCRIPTION  \\\n",
       "0  35000326.0     2014-09-18  Pitched, 100 mm loft insulation    \n",
       "1  35000379.0     2014-07-04  Pitched, 250 mm loft insulation    \n",
       "2  35000527.0     2014-07-03         (another dwelling above)    \n",
       "3  35000632.0     2014-07-18         (another dwelling above)    \n",
       "4  35000947.0     2014-09-23  Pitched, 250 mm loft insulation    \n",
       "\n",
       "   EXTENSION_COUNT MAINS_GAS_FLAG  MULTI_GLAZE_PROPORTION  \\\n",
       "0                0              Y                       0   \n",
       "1                0              Y                     100   \n",
       "2                0              Y                     100   \n",
       "3                0              Y                     100   \n",
       "4                0              Y                     100   \n",
       "\n",
       "                PHOTO_SUPPLY   LATITUDE  LONGITUDE  \n",
       "0  Array: Roof Area: 0%;  |   56.124597  -3.813194  \n",
       "1  Array: Roof Area: 0%;  |   56.108770  -3.790594  \n",
       "2  Array: Roof Area: 0%;  |   56.121653  -3.793252  \n",
       "3  Array: Roof Area: 0%;  |   56.123294  -3.798460  \n",
       "4  Array: Roof Area: 0%;  |   56.127769  -3.818717  "
      ]
     },
     "execution_count": 204,
     "metadata": {},
     "output_type": "execute_result"
    }
   ],
   "source": [
    "loss = load_compile_epc('./../../Volumes/Extreme_SSD/WORK/EPC/scottish_EPC/cleaned_loss/*')\n",
    "loss.head()"
   ]
  },
  {
   "cell_type": "code",
   "execution_count": 205,
   "metadata": {},
   "outputs": [
    {
     "name": "stdout",
     "output_type": "stream",
     "text": [
      "<class 'pandas.core.frame.DataFrame'>\n",
      "RangeIndex: 1435091 entries, 0 to 1435090\n",
      "Data columns (total 10 columns):\n",
      " #   Column                  Non-Null Count    Dtype  \n",
      "---  ------                  --------------    -----  \n",
      " 0   UPRN                    1435091 non-null  float64\n",
      " 1   LODGEMENT_DATE          1435091 non-null  object \n",
      " 2   ROOF_DESCRIPTION        1435091 non-null  object \n",
      " 3   EXTENSION_COUNT         1435091 non-null  int64  \n",
      " 4   MAINS_GAS_FLAG          60049 non-null    object \n",
      " 5   MULTI_GLAZE_PROPORTION  1435091 non-null  int64  \n",
      " 6   PHOTO_SUPPLY            1388213 non-null  object \n",
      " 7   LATITUDE                1434901 non-null  float64\n",
      " 8   LONGITUDE               1434901 non-null  float64\n",
      " 9   DataZone                1434881 non-null  object \n",
      "dtypes: float64(3), int64(2), object(5)\n",
      "memory usage: 109.5+ MB\n"
     ]
    }
   ],
   "source": [
    "loss = loss.merge(lookup, how = 'left', on = 'UPRN')\n",
    "loss.info()"
   ]
  },
  {
   "cell_type": "code",
   "execution_count": 206,
   "metadata": {},
   "outputs": [],
   "source": [
    "loss = essen_clean(loss)\n",
    "loss['count'] = 1"
   ]
  },
  {
   "cell_type": "code",
   "execution_count": 207,
   "metadata": {},
   "outputs": [],
   "source": [
    "keywords = ['insulat', 'inswleid']\n",
    "# Create a regex pattern for the keywords\n",
    "pattern = '|'.join(keywords)\n",
    "# Use str.contains to create the binary column\n",
    "loss['Roof_insulati'] = loss['ROOF_DESCRIPTION'].str.contains(pattern, case=False, na=True).astype(int)\n",
    "\n",
    "keywords = ['thatch']\n",
    "# Create a regex pattern for the keywords\n",
    "pattern = '|'.join(keywords)\n",
    "# Use str.contains to create the binary column\n",
    "loss['Roof_thatch'] = loss['ROOF_DESCRIPTION'].str.contains(pattern, case=False, na=True).astype(int)"
   ]
  },
  {
   "cell_type": "code",
   "execution_count": 208,
   "metadata": {},
   "outputs": [],
   "source": [
    "li_0 = ['Array: Roof Area: 0%; Connection: not applicable (FGHRS or no PV);  | ',\n",
    "       'Array: Roof Area: 0%;  | ',\n",
    "       'Array: Roof Area: 0%; Connection: not recorded;  | ',\n",
    "       'Array: Roof Area: %;  | ']\n",
    "\n",
    "loss['PHOTO_SUPPLY_bi'] = np.where(loss['PHOTO_SUPPLY'].isin(li_0), 0 , 1)"
   ]
  },
  {
   "cell_type": "code",
   "execution_count": 209,
   "metadata": {},
   "outputs": [],
   "source": [
    "loss_g = loss[loss['MAINS_GAS_FLAG'] == 'Y']"
   ]
  },
  {
   "cell_type": "code",
   "execution_count": 211,
   "metadata": {},
   "outputs": [],
   "source": [
    "agg = round(loss.groupby(['DataZone']\n",
    "                  ).aggregate({'MULTI_GLAZE_PROPORTION':['median','mean'],\n",
    "                               'EXTENSION_COUNT':['median','mean'],\n",
    "                               'PHOTO_SUPPLY_bi': ['sum'],\n",
    "                               'Roof_insulati':['sum'],\n",
    "                               'Roof_thatch':['sum'],\n",
    "                              'count':['count']}).reset_index(),2)\n",
    "agg.columns = [c[0] + \"_\" + c[1] for c in agg.columns]\n",
    "agg = agg.rename(columns = {'DataZone_':'DataZone'})\n",
    "\n",
    "agg_g = round(loss_g.groupby(['DataZone']\n",
    "                  ).aggregate({'MULTI_GLAZE_PROPORTION':['median','mean'],\n",
    "                               'EXTENSION_COUNT':['median','mean'],\n",
    "                               'PHOTO_SUPPLY_bi': ['sum'],\n",
    "                               'Roof_insulati':['sum'],\n",
    "                               'Roof_thatch':['sum'],\n",
    "                              'count':['count']}).reset_index(),2)\n",
    "agg_g.columns = [c[0] + \"_\" + c[1] for c in agg_g.columns]\n",
    "agg_g = agg_g.rename(columns = {'DataZone_':'DataZone'})"
   ]
  },
  {
   "cell_type": "code",
   "execution_count": 212,
   "metadata": {},
   "outputs": [
    {
     "name": "stdout",
     "output_type": "stream",
     "text": [
      "<class 'pandas.core.frame.DataFrame'>\n",
      "RangeIndex: 6974 entries, 0 to 6973\n",
      "Data columns (total 9 columns):\n",
      " #   Column                         Non-Null Count  Dtype  \n",
      "---  ------                         --------------  -----  \n",
      " 0   DataZone                       6974 non-null   object \n",
      " 1   MULTI_GLAZE_PROPORTION_median  6974 non-null   float64\n",
      " 2   MULTI_GLAZE_PROPORTION_mean    6974 non-null   float64\n",
      " 3   EXTENSION_COUNT_median         6974 non-null   float64\n",
      " 4   EXTENSION_COUNT_mean           6974 non-null   float64\n",
      " 5   PHOTO_SUPPLY_bi_sum            6974 non-null   int64  \n",
      " 6   Roof_insulati_sum              6974 non-null   int64  \n",
      " 7   Roof_thatch_sum                6974 non-null   int64  \n",
      " 8   count_count                    6974 non-null   int64  \n",
      "dtypes: float64(4), int64(4), object(1)\n",
      "memory usage: 490.5+ KB\n"
     ]
    }
   ],
   "source": [
    "agg.info()"
   ]
  },
  {
   "cell_type": "code",
   "execution_count": 213,
   "metadata": {},
   "outputs": [
    {
     "name": "stdout",
     "output_type": "stream",
     "text": [
      "<class 'pandas.core.frame.DataFrame'>\n",
      "RangeIndex: 6204 entries, 0 to 6203\n",
      "Data columns (total 9 columns):\n",
      " #   Column                         Non-Null Count  Dtype  \n",
      "---  ------                         --------------  -----  \n",
      " 0   DataZone                       6204 non-null   object \n",
      " 1   MULTI_GLAZE_PROPORTION_median  6204 non-null   float64\n",
      " 2   MULTI_GLAZE_PROPORTION_mean    6204 non-null   float64\n",
      " 3   EXTENSION_COUNT_median         6204 non-null   float64\n",
      " 4   EXTENSION_COUNT_mean           6204 non-null   float64\n",
      " 5   PHOTO_SUPPLY_bi_sum            6204 non-null   int64  \n",
      " 6   Roof_insulati_sum              6204 non-null   int64  \n",
      " 7   Roof_thatch_sum                6204 non-null   int64  \n",
      " 8   count_count                    6204 non-null   int64  \n",
      "dtypes: float64(4), int64(4), object(1)\n",
      "memory usage: 436.3+ KB\n"
     ]
    }
   ],
   "source": [
    "agg_g.info()"
   ]
  },
  {
   "cell_type": "code",
   "execution_count": 214,
   "metadata": {},
   "outputs": [],
   "source": [
    "agg.to_csv('./../../Volumes/Extreme_SSD/WORK/EPC/scottish_EPC/DZ_loss.csv')\n",
    "agg_g.to_csv('./../../Volumes/Extreme_SSD/WORK/EPC/scottish_EPC/DZ_GAS_loss.csv')"
   ]
  },
  {
   "cell_type": "code",
   "execution_count": 81,
   "metadata": {},
   "outputs": [],
   "source": [
    "del loss, loss_g, agg, agg_g"
   ]
  },
  {
   "cell_type": "markdown",
   "metadata": {},
   "source": [
    "# OTHER"
   ]
  },
  {
   "cell_type": "code",
   "execution_count": 215,
   "metadata": {},
   "outputs": [
    {
     "data": {
      "text/html": [
       "<div>\n",
       "<style scoped>\n",
       "    .dataframe tbody tr th:only-of-type {\n",
       "        vertical-align: middle;\n",
       "    }\n",
       "\n",
       "    .dataframe tbody tr th {\n",
       "        vertical-align: top;\n",
       "    }\n",
       "\n",
       "    .dataframe thead th {\n",
       "        text-align: right;\n",
       "    }\n",
       "</style>\n",
       "<table border=\"1\" class=\"dataframe\">\n",
       "  <thead>\n",
       "    <tr style=\"text-align: right;\">\n",
       "      <th></th>\n",
       "      <th>UPRN</th>\n",
       "      <th>LODGEMENT_DATE</th>\n",
       "      <th>FLOOR_LEVEL</th>\n",
       "      <th>MAINS_GAS_FLAG</th>\n",
       "      <th>TRANSACTION_TYPE</th>\n",
       "      <th>PROPERTY_TYPE</th>\n",
       "      <th>LATITUDE</th>\n",
       "      <th>LONGITUDE</th>\n",
       "    </tr>\n",
       "  </thead>\n",
       "  <tbody>\n",
       "    <tr>\n",
       "      <th>0</th>\n",
       "      <td>35000326.0</td>\n",
       "      <td>2014-09-18</td>\n",
       "      <td>top floor</td>\n",
       "      <td>Y</td>\n",
       "      <td>marketed sale</td>\n",
       "      <td>Flat</td>\n",
       "      <td>56.124597</td>\n",
       "      <td>-3.813194</td>\n",
       "    </tr>\n",
       "    <tr>\n",
       "      <th>1</th>\n",
       "      <td>35000379.0</td>\n",
       "      <td>2014-07-04</td>\n",
       "      <td>NaN</td>\n",
       "      <td>Y</td>\n",
       "      <td>none of the above</td>\n",
       "      <td>House</td>\n",
       "      <td>56.108770</td>\n",
       "      <td>-3.790594</td>\n",
       "    </tr>\n",
       "    <tr>\n",
       "      <th>2</th>\n",
       "      <td>35000527.0</td>\n",
       "      <td>2014-07-03</td>\n",
       "      <td>ground floor</td>\n",
       "      <td>Y</td>\n",
       "      <td>assessment for green deal</td>\n",
       "      <td>Flat</td>\n",
       "      <td>56.121653</td>\n",
       "      <td>-3.793252</td>\n",
       "    </tr>\n",
       "    <tr>\n",
       "      <th>3</th>\n",
       "      <td>35000632.0</td>\n",
       "      <td>2014-07-18</td>\n",
       "      <td>ground floor</td>\n",
       "      <td>Y</td>\n",
       "      <td>rental</td>\n",
       "      <td>Flat</td>\n",
       "      <td>56.123294</td>\n",
       "      <td>-3.798460</td>\n",
       "    </tr>\n",
       "    <tr>\n",
       "      <th>4</th>\n",
       "      <td>35000947.0</td>\n",
       "      <td>2014-09-23</td>\n",
       "      <td>NaN</td>\n",
       "      <td>Y</td>\n",
       "      <td>none of the above</td>\n",
       "      <td>House</td>\n",
       "      <td>56.127769</td>\n",
       "      <td>-3.818717</td>\n",
       "    </tr>\n",
       "  </tbody>\n",
       "</table>\n",
       "</div>"
      ],
      "text/plain": [
       "         UPRN LODGEMENT_DATE   FLOOR_LEVEL MAINS_GAS_FLAG  \\\n",
       "0  35000326.0     2014-09-18     top floor              Y   \n",
       "1  35000379.0     2014-07-04           NaN              Y   \n",
       "2  35000527.0     2014-07-03  ground floor              Y   \n",
       "3  35000632.0     2014-07-18  ground floor              Y   \n",
       "4  35000947.0     2014-09-23           NaN              Y   \n",
       "\n",
       "            TRANSACTION_TYPE PROPERTY_TYPE   LATITUDE  LONGITUDE  \n",
       "0              marketed sale          Flat  56.124597  -3.813194  \n",
       "1          none of the above         House  56.108770  -3.790594  \n",
       "2  assessment for green deal          Flat  56.121653  -3.793252  \n",
       "3                     rental          Flat  56.123294  -3.798460  \n",
       "4          none of the above         House  56.127769  -3.818717  "
      ]
     },
     "execution_count": 215,
     "metadata": {},
     "output_type": "execute_result"
    }
   ],
   "source": [
    "other = load_compile_epc('./../../Volumes/Extreme_SSD/WORK/EPC/scottish_EPC/cleaned_other/*')\n",
    "other.head()"
   ]
  },
  {
   "cell_type": "code",
   "execution_count": 216,
   "metadata": {},
   "outputs": [],
   "source": [
    "other = other.merge(lookup, how = 'left', on = 'UPRN')\n",
    "other = essen_clean(other)\n",
    "other['count'] = 1"
   ]
  },
  {
   "cell_type": "code",
   "execution_count": 217,
   "metadata": {},
   "outputs": [],
   "source": [
    "other['TOP_FLOOR'] = np.where(other['FLOOR_LEVEL']=='top floor',1,0)"
   ]
  },
  {
   "cell_type": "code",
   "execution_count": 218,
   "metadata": {},
   "outputs": [],
   "source": [
    "other['TOP_FLOOR_FLAT'] = np.where((other['TOP_FLOOR'] == 1) & (other['PROPERTY_TYPE'].isin(['Flat','Maisonette'])), 1,0)"
   ]
  },
  {
   "cell_type": "code",
   "execution_count": 219,
   "metadata": {},
   "outputs": [],
   "source": [
    "dict_tr = {'marketed sale' :'other',\n",
    "            'ECO assessment' :'G_deal', \n",
    "            'rental' :'other',\n",
    "              'rental (private)' :'other',\n",
    "       'new dwelling' :'other', \n",
    "       'FiT application' :'G_deal', \n",
    "       'none of the above' :'other',\n",
    "       'rental (social)' :'other', \n",
    "       'assessment for green deal' :'G_deal',\n",
    "       'Stock condition survey' :'other', \n",
    "       'non marketed sale' :'other',\n",
    "       'not sale or rental' :'other',\n",
    "         'RHI application' :'G_deal', \n",
    "         'following green deal' :'G_deal',\n",
    "       'Stock Condition Survey' :'other', \n",
    "       'unknown' :'other',\n",
    "       'not recorded':'other',\n",
    "       'rental (private) - this is for backwards compatibility only and should not be used' :'other',\n",
    "       'not recorded - this is for backwards compatibility only and should not be used' :'other',\n",
    "       'rental (social) - this is for backwards compatibility only and should not be used':'other'}\n",
    "\n",
    "other['TRAN_TYPE'] =  other['TRANSACTION_TYPE'].map(dict_tr)\n",
    "other = other.reset_index()"
   ]
  },
  {
   "cell_type": "code",
   "execution_count": 220,
   "metadata": {},
   "outputs": [],
   "source": [
    "other_g = other[other['MAINS_GAS_FLAG'] == 'Y']"
   ]
  },
  {
   "cell_type": "code",
   "execution_count": 221,
   "metadata": {},
   "outputs": [],
   "source": [
    "TRAN_TYPE = pd.pivot(other.loc[:,['TRAN_TYPE','UPRN','DataZone','count','index']], \n",
    "         index = ['index','DataZone'],columns='TRAN_TYPE', values='count'\n",
    "         ).reset_index().loc[:,['DataZone','other', 'G_deal']\n",
    "                                ].groupby('DataZone').sum().reset_index(\n",
    "\n",
    "                                ).rename(columns = {'other':'TRANS_TYPE_other_sum','G_deal':'TRANS_TYPE_govdeal_sum'})\n",
    "\n",
    "TRAN_TYPE_g = pd.pivot(other_g.loc[:,['TRAN_TYPE','UPRN','DataZone','count','index']], \n",
    "         index = ['index','DataZone'],columns='TRAN_TYPE', values='count'\n",
    "         ).reset_index().loc[:,['DataZone','other', 'G_deal']\n",
    "                                ].groupby('DataZone').sum().reset_index(\n",
    "\n",
    "                                ).rename(columns = {'other':'TRANS_TYPE_other_sum','G_deal':'TRANS_TYPE_govdeal_sum'})"
   ]
  },
  {
   "cell_type": "code",
   "execution_count": 222,
   "metadata": {},
   "outputs": [],
   "source": [
    "agg = round(other.groupby(['DataZone']\n",
    "                  ).aggregate({'TOP_FLOOR_FLAT':'sum',\n",
    "                              'count':['count']}).reset_index(),2)\n",
    "agg.columns = [c[0] + \"_\" + c[1] for c in agg.columns]\n",
    "agg = agg.rename(columns = {'DataZone_':'DataZone'})\n",
    "\n",
    "agg_g = round(other_g.groupby(['DataZone']\n",
    "                  ).aggregate({'TOP_FLOOR_FLAT':'sum',\n",
    "                              'count':['count']}).reset_index(),2)\n",
    "agg_g.columns = [c[0] + \"_\" + c[1] for c in agg_g.columns]\n",
    "agg_g = agg_g.rename(columns = {'DataZone_':'DataZone'})"
   ]
  },
  {
   "cell_type": "code",
   "execution_count": 223,
   "metadata": {},
   "outputs": [],
   "source": [
    "agg = agg.merge(TRAN_TYPE, on = 'DataZone')\n",
    "agg_g = agg_g.merge(TRAN_TYPE_g, on = 'DataZone')"
   ]
  },
  {
   "cell_type": "code",
   "execution_count": 224,
   "metadata": {},
   "outputs": [
    {
     "name": "stdout",
     "output_type": "stream",
     "text": [
      "<class 'pandas.core.frame.DataFrame'>\n",
      "RangeIndex: 6204 entries, 0 to 6203\n",
      "Data columns (total 5 columns):\n",
      " #   Column                  Non-Null Count  Dtype  \n",
      "---  ------                  --------------  -----  \n",
      " 0   DataZone                6204 non-null   object \n",
      " 1   TOP_FLOOR_FLAT_sum      6204 non-null   int64  \n",
      " 2   count_count             6204 non-null   int64  \n",
      " 3   TRANS_TYPE_other_sum    6204 non-null   float64\n",
      " 4   TRANS_TYPE_govdeal_sum  6204 non-null   float64\n",
      "dtypes: float64(2), int64(2), object(1)\n",
      "memory usage: 242.5+ KB\n"
     ]
    }
   ],
   "source": [
    "agg_g.info()"
   ]
  },
  {
   "cell_type": "code",
   "execution_count": 225,
   "metadata": {},
   "outputs": [],
   "source": [
    "agg.to_csv('./../../Volumes/Extreme_SSD/WORK/EPC/scottish_EPC/DZ_other.csv')\n",
    "agg_g.to_csv('./../../Volumes/Extreme_SSD/WORK/EPC/scottish_EPC/DZ_GAS_other.csv')"
   ]
  }
 ],
 "metadata": {
  "kernelspec": {
   "display_name": "epc",
   "language": "python",
   "name": "python3"
  },
  "language_info": {
   "codemirror_mode": {
    "name": "ipython",
    "version": 3
   },
   "file_extension": ".py",
   "mimetype": "text/x-python",
   "name": "python",
   "nbconvert_exporter": "python",
   "pygments_lexer": "ipython3",
   "version": "3.10.15"
  }
 },
 "nbformat": 4,
 "nbformat_minor": 2
}
